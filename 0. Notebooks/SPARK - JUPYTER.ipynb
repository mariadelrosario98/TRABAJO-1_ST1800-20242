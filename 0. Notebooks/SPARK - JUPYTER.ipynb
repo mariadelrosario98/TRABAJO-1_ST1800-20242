{
 "cells": [
  {
   "cell_type": "markdown",
   "id": "eb08d73b",
   "metadata": {},
   "source": [
    "# Procesamiento en PySpark"
   ]
  },
  {
   "cell_type": "markdown",
   "id": "84f9810b",
   "metadata": {},
   "source": [
    "Configuración del context para usar PySpark"
   ]
  },
  {
   "cell_type": "code",
   "execution_count": 4,
   "id": "789db3c8",
   "metadata": {},
   "outputs": [
    {
     "data": {
      "application/vnd.jupyter.widget-view+json": {
       "model_id": "",
       "version_major": 2,
       "version_minor": 0
      },
      "text/plain": [
       "FloatProgress(value=0.0, bar_style='info', description='Progress:', layout=Layout(height='25px', width='50%'),…"
      ]
     },
     "metadata": {},
     "output_type": "display_data"
    },
    {
     "name": "stdout",
     "output_type": "stream",
     "text": [
      "/usr/bin/python3"
     ]
    }
   ],
   "source": [
    "import sys\n",
    "print(sys.executable)"
   ]
  },
  {
   "cell_type": "code",
   "execution_count": 11,
   "id": "e71baec6",
   "metadata": {},
   "outputs": [
    {
     "data": {
      "application/vnd.jupyter.widget-view+json": {
       "model_id": "",
       "version_major": 2,
       "version_minor": 0
      },
      "text/plain": [
       "FloatProgress(value=0.0, bar_style='info', description='Progress:', layout=Layout(height='25px', width='50%'),…"
      ]
     },
     "metadata": {},
     "output_type": "display_data"
    }
   ],
   "source": [
    "from pyspark import SparkContext\n",
    "from pyspark.sql import SparkSession"
   ]
  },
  {
   "cell_type": "code",
   "execution_count": 15,
   "id": "6d6fac04",
   "metadata": {
    "scrolled": true
   },
   "outputs": [
    {
     "name": "stdout",
     "output_type": "stream",
     "text": [
      "Starting Spark application\n"
     ]
    },
    {
     "data": {
      "text/html": [
       "<table>\n",
       "<tr><th>ID</th><th>YARN Application ID</th><th>Kind</th><th>State</th><th>Spark UI</th><th>Driver log</th><th>User</th><th>Current session?</th></tr><tr><td>1</td><td>application_1725594577268_0002</td><td>pyspark</td><td>idle</td><td><a target=\"_blank\" href=\"http://ip-172-31-91-209.ec2.internal:20888/proxy/application_1725594577268_0002/\">Link</a></td><td><a target=\"_blank\" href=\"http://ip-172-31-89-182.ec2.internal:8042/node/containerlogs/container_1725594577268_0002_01_000001/livy\">Link</a></td><td>None</td><td>✔</td></tr></table>"
      ],
      "text/plain": [
       "<IPython.core.display.HTML object>"
      ]
     },
     "metadata": {},
     "output_type": "display_data"
    },
    {
     "data": {
      "application/vnd.jupyter.widget-view+json": {
       "model_id": "",
       "version_major": 2,
       "version_minor": 0
      },
      "text/plain": [
       "FloatProgress(value=0.0, bar_style='info', description='Progress:', layout=Layout(height='25px', width='50%'),…"
      ]
     },
     "metadata": {},
     "output_type": "display_data"
    },
    {
     "name": "stdout",
     "output_type": "stream",
     "text": [
      "SparkSession available as 'spark'.\n"
     ]
    },
    {
     "data": {
      "text/html": [
       "Current session configs: <tt>{'conf': {'spark.pyspark.python': 'python3', 'spark.pyspark.virtualenv.enabled': 'true', 'spark.pyspark.virtualenv.type': 'native', 'spark.pyspark.virtualenv.bin.path': '/usr/bin/virtualenv'}, 'proxyUser': 'jovyan', 'kind': 'pyspark'}</tt><br>"
      ],
      "text/plain": [
       "<IPython.core.display.HTML object>"
      ]
     },
     "metadata": {},
     "output_type": "display_data"
    },
    {
     "data": {
      "text/html": [
       "<table>\n",
       "<tr><th>ID</th><th>YARN Application ID</th><th>Kind</th><th>State</th><th>Spark UI</th><th>Driver log</th><th>User</th><th>Current session?</th></tr><tr><td>1</td><td>application_1725594577268_0002</td><td>pyspark</td><td>idle</td><td><a target=\"_blank\" href=\"http://ip-172-31-91-209.ec2.internal:20888/proxy/application_1725594577268_0002/\">Link</a></td><td><a target=\"_blank\" href=\"http://ip-172-31-89-182.ec2.internal:8042/node/containerlogs/container_1725594577268_0002_01_000001/livy\">Link</a></td><td>None</td><td>✔</td></tr></table>"
      ],
      "text/plain": [
       "<IPython.core.display.HTML object>"
      ]
     },
     "metadata": {},
     "output_type": "display_data"
    }
   ],
   "source": [
    "%%configure -f\n",
    "{ \"conf\":{\n",
    "\"spark.pyspark.python\": \"python3\",\n",
    "\"spark.pyspark.virtualenv.enabled\": \"true\",\n",
    "\"spark.pyspark.virtualenv.type\":\"native\",\n",
    "\"spark.pyspark.virtualenv.bin.path\":\"/usr/bin/virtualenv\"\n",
    "}}"
   ]
  },
  {
   "cell_type": "code",
   "execution_count": 16,
   "id": "0de68b1f",
   "metadata": {},
   "outputs": [
    {
     "data": {
      "application/vnd.jupyter.widget-view+json": {
       "model_id": "",
       "version_major": 2,
       "version_minor": 0
      },
      "text/plain": [
       "FloatProgress(value=0.0, bar_style='info', description='Progress:', layout=Layout(height='25px', width='50%'),…"
      ]
     },
     "metadata": {},
     "output_type": "display_data"
    },
    {
     "name": "stdout",
     "output_type": "stream",
     "text": [
      "Package                    Version\n",
      "-------------------------- ------------\n",
      "aws-cfn-bootstrap          2.0\n",
      "beautifulsoup4             4.9.3\n",
      "boto                       2.49.0\n",
      "click                      8.1.7\n",
      "docutils                   0.14\n",
      "jmespath                   1.0.1\n",
      "joblib                     1.3.2\n",
      "lockfile                   0.11.0\n",
      "lxml                       4.9.3\n",
      "mysqlclient                1.4.2\n",
      "nltk                       3.8.1\n",
      "nose                       1.3.4\n",
      "numpy                      1.20.0\n",
      "pip                        20.2.2\n",
      "py-dateutil                2.2\n",
      "pystache                   0.5.4\n",
      "python-daemon              2.2.3\n",
      "python37-sagemaker-pyspark 1.4.2\n",
      "pytz                       2023.3.post1\n",
      "PyYAML                     5.4.1\n",
      "regex                      2021.11.10\n",
      "setuptools                 28.8.0\n",
      "simplejson                 3.2.0\n",
      "six                        1.13.0\n",
      "tqdm                       4.66.1\n",
      "wheel                      0.29.0\n",
      "windmill                   1.6\n",
      "\n",
      "WARNING: The directory '/home/.cache/pip' or its parent directory is not owned or is not writable by the current user. The cache has been disabled. Check the permissions and owner of that directory. If executing pip with sudo, you may want sudo's -H flag."
     ]
    }
   ],
   "source": [
    "sc.list_packages()"
   ]
  },
  {
   "cell_type": "markdown",
   "id": "4b75dd2a",
   "metadata": {},
   "source": [
    "Conexión con la base de datos:"
   ]
  },
  {
   "cell_type": "code",
   "execution_count": 23,
   "id": "b50bc320",
   "metadata": {},
   "outputs": [
    {
     "data": {
      "application/vnd.jupyter.widget-view+json": {
       "model_id": "",
       "version_major": 2,
       "version_minor": 0
      },
      "text/plain": [
       "FloatProgress(value=0.0, bar_style='info', description='Progress:', layout=Layout(height='25px', width='50%'),…"
      ]
     },
     "metadata": {},
     "output_type": "display_data"
    }
   ],
   "source": [
    "df = spark.sql(\"show databases\")"
   ]
  },
  {
   "cell_type": "code",
   "execution_count": 25,
   "id": "54aa72ef",
   "metadata": {},
   "outputs": [
    {
     "data": {
      "application/vnd.jupyter.widget-view+json": {
       "model_id": "",
       "version_major": 2,
       "version_minor": 0
      },
      "text/plain": [
       "FloatProgress(value=0.0, bar_style='info', description='Progress:', layout=Layout(height='25px', width='50%'),…"
      ]
     },
     "metadata": {},
     "output_type": "display_data"
    },
    {
     "name": "stdout",
     "output_type": "stream",
     "text": [
      "+----------+\n",
      "| namespace|\n",
      "+----------+\n",
      "|   default|\n",
      "|    labsdb|\n",
      "|usernamedb|\n",
      "+----------+"
     ]
    }
   ],
   "source": [
    "df.show()"
   ]
  },
  {
   "cell_type": "markdown",
   "id": "5989d503",
   "metadata": {},
   "source": [
    "Contamos con 3 bases de datos y la que usaremos sera labsdb."
   ]
  },
  {
   "cell_type": "markdown",
   "id": "d8d3e353",
   "metadata": {},
   "source": [
    "# Consultas de las tablas"
   ]
  },
  {
   "cell_type": "markdown",
   "id": "124f5596",
   "metadata": {},
   "source": [
    "# Tabla Atm_con: Hacemos un select para traernos todos los campos y conocer la información con la que contamos"
   ]
  },
  {
   "cell_type": "code",
   "execution_count": 2,
   "id": "23ae65dd",
   "metadata": {},
   "outputs": [
    {
     "data": {
      "application/vnd.jupyter.widget-view+json": {
       "model_id": "",
       "version_major": 2,
       "version_minor": 0
      },
      "text/plain": [
       "FloatProgress(value=0.0, bar_style='info', description='Progress:', layout=Layout(height='25px', width='50%'),…"
      ]
     },
     "metadata": {},
     "output_type": "display_data"
    }
   ],
   "source": [
    "df2 = spark.sql(\"select *, SUBSTRING(date, 1, 4) AS year from labsdb.atm_con where objectid is not null\")"
   ]
  },
  {
   "cell_type": "code",
   "execution_count": 3,
   "id": "d3b5b2b9",
   "metadata": {},
   "outputs": [
    {
     "data": {
      "application/vnd.jupyter.widget-view+json": {
       "model_id": "",
       "version_major": 2,
       "version_minor": 0
      },
      "text/plain": [
       "FloatProgress(value=0.0, bar_style='info', description='Progress:', layout=Layout(height='25px', width='50%'),…"
      ]
     },
     "metadata": {},
     "output_type": "display_data"
    },
    {
     "name": "stdout",
     "output_type": "stream",
     "text": [
      "+--------+-------+----+----+--------------------+---------------+--------------------+--------+--------------------+--------------------+-------+------+----+\n",
      "|objectid|country|iso2|iso3|           indicator|           unit|              source|cts_code|            cts_name| cts_full_descriptor|   date| value|year|\n",
      "+--------+-------+----+----+--------------------+---------------+--------------------+--------+--------------------+--------------------+-------+------+----+\n",
      "|       1|  World|    | WLD|MonthlyAtmospheri...|PartsPerMillion|Dr.PieterTansNati...|    ECCA|AtmosphericCarbon...|EnvironmentClimat...|1958M03|315.71|1958|\n",
      "|       2|  World|    | WLD|MonthlyAtmospheri...|PartsPerMillion|Dr.PieterTansNati...|    ECCA|AtmosphericCarbon...|EnvironmentClimat...|1958M04|317.45|1958|\n",
      "|       3|  World|    | WLD|MonthlyAtmospheri...|PartsPerMillion|Dr.PieterTansNati...|    ECCA|AtmosphericCarbon...|EnvironmentClimat...|1958M05|317.51|1958|\n",
      "|       4|  World|    | WLD|MonthlyAtmospheri...|PartsPerMillion|Dr.PieterTansNati...|    ECCA|AtmosphericCarbon...|EnvironmentClimat...|1958M06|317.27|1958|\n",
      "|       5|  World|    | WLD|MonthlyAtmospheri...|PartsPerMillion|Dr.PieterTansNati...|    ECCA|AtmosphericCarbon...|EnvironmentClimat...|1958M07|315.87|1958|\n",
      "|       6|  World|    | WLD|MonthlyAtmospheri...|PartsPerMillion|Dr.PieterTansNati...|    ECCA|AtmosphericCarbon...|EnvironmentClimat...|1958M08|314.93|1958|\n",
      "|       7|  World|    | WLD|MonthlyAtmospheri...|PartsPerMillion|Dr.PieterTansNati...|    ECCA|AtmosphericCarbon...|EnvironmentClimat...|1958M09|313.21|1958|\n",
      "|       8|  World|    | WLD|MonthlyAtmospheri...|PartsPerMillion|Dr.PieterTansNati...|    ECCA|AtmosphericCarbon...|EnvironmentClimat...|1958M10|312.42|1958|\n",
      "|       9|  World|    | WLD|MonthlyAtmospheri...|PartsPerMillion|Dr.PieterTansNati...|    ECCA|AtmosphericCarbon...|EnvironmentClimat...|1958M11|313.33|1958|\n",
      "|      10|  World|    | WLD|MonthlyAtmospheri...|PartsPerMillion|Dr.PieterTansNati...|    ECCA|AtmosphericCarbon...|EnvironmentClimat...|1958M12|314.67|1958|\n",
      "|      11|  World|    | WLD|MonthlyAtmospheri...|PartsPerMillion|Dr.PieterTansNati...|    ECCA|AtmosphericCarbon...|EnvironmentClimat...|1959M01|315.58|1959|\n",
      "|      12|  World|    | WLD|MonthlyAtmospheri...|PartsPerMillion|Dr.PieterTansNati...|    ECCA|AtmosphericCarbon...|EnvironmentClimat...|1959M02|316.49|1959|\n",
      "|      13|  World|    | WLD|MonthlyAtmospheri...|PartsPerMillion|Dr.PieterTansNati...|    ECCA|AtmosphericCarbon...|EnvironmentClimat...|1959M03|316.65|1959|\n",
      "|      14|  World|    | WLD|MonthlyAtmospheri...|        Percent|Dr.PieterTansNati...|    ECCA|AtmosphericCarbon...|EnvironmentClimat...|1959M03|   0.3|1959|\n",
      "|      15|  World|    | WLD|MonthlyAtmospheri...|PartsPerMillion|Dr.PieterTansNati...|    ECCA|AtmosphericCarbon...|EnvironmentClimat...|1959M04|317.72|1959|\n",
      "|      16|  World|    | WLD|MonthlyAtmospheri...|        Percent|Dr.PieterTansNati...|    ECCA|AtmosphericCarbon...|EnvironmentClimat...|1959M04|  0.09|1959|\n",
      "|      17|  World|    | WLD|MonthlyAtmospheri...|PartsPerMillion|Dr.PieterTansNati...|    ECCA|AtmosphericCarbon...|EnvironmentClimat...|1959M05|318.29|1959|\n",
      "|      18|  World|    | WLD|MonthlyAtmospheri...|        Percent|Dr.PieterTansNati...|    ECCA|AtmosphericCarbon...|EnvironmentClimat...|1959M05|  0.25|1959|\n",
      "|      19|  World|    | WLD|MonthlyAtmospheri...|PartsPerMillion|Dr.PieterTansNati...|    ECCA|AtmosphericCarbon...|EnvironmentClimat...|1959M06|318.15|1959|\n",
      "|      20|  World|    | WLD|MonthlyAtmospheri...|        Percent|Dr.PieterTansNati...|    ECCA|AtmosphericCarbon...|EnvironmentClimat...|1959M06|  0.28|1959|\n",
      "+--------+-------+----+----+--------------------+---------------+--------------------+--------+--------------------+--------------------+-------+------+----+\n",
      "only showing top 20 rows"
     ]
    }
   ],
   "source": [
    "df2.show()"
   ]
  },
  {
   "cell_type": "markdown",
   "id": "0a99b04c",
   "metadata": {},
   "source": [
    "Conteo de palabras para conocer cuales son las palabras mas repetidas en la tabla de atmosfera (atm_con):"
   ]
  },
  {
   "cell_type": "code",
   "execution_count": 1,
   "id": "9d439ce9",
   "metadata": {},
   "outputs": [
    {
     "name": "stdout",
     "output_type": "stream",
     "text": [
      "Starting Spark application\n"
     ]
    },
    {
     "data": {
      "text/html": [
       "<table>\n",
       "<tr><th>ID</th><th>YARN Application ID</th><th>Kind</th><th>State</th><th>Spark UI</th><th>Driver log</th><th>User</th><th>Current session?</th></tr><tr><td>0</td><td>application_1725738867665_0001</td><td>pyspark</td><td>idle</td><td><a target=\"_blank\" href=\"http://ip-172-31-95-170.ec2.internal:20888/proxy/application_1725738867665_0001/\">Link</a></td><td><a target=\"_blank\" href=\"http://ip-172-31-85-106.ec2.internal:8042/node/containerlogs/container_1725738867665_0001_01_000001/livy\">Link</a></td><td>None</td><td>✔</td></tr></table>"
      ],
      "text/plain": [
       "<IPython.core.display.HTML object>"
      ]
     },
     "metadata": {},
     "output_type": "display_data"
    },
    {
     "data": {
      "application/vnd.jupyter.widget-view+json": {
       "model_id": "",
       "version_major": 2,
       "version_minor": 0
      },
      "text/plain": [
       "FloatProgress(value=0.0, bar_style='info', description='Progress:', layout=Layout(height='25px', width='50%'),…"
      ]
     },
     "metadata": {},
     "output_type": "display_data"
    },
    {
     "name": "stdout",
     "output_type": "stream",
     "text": [
      "SparkSession available as 'spark'.\n"
     ]
    },
    {
     "data": {
      "application/vnd.jupyter.widget-view+json": {
       "model_id": "",
       "version_major": 2,
       "version_minor": 0
      },
      "text/plain": [
       "FloatProgress(value=0.0, bar_style='info', description='Progress:', layout=Layout(height='25px', width='50%'),…"
      ]
     },
     "metadata": {},
     "output_type": "display_data"
    },
    {
     "name": "stdout",
     "output_type": "stream",
     "text": [
      "('Carbon', 7910)\n",
      "('Atmospheric', 7910)\n",
      "('Dioxide', 7910)\n",
      "('and', 4746)\n",
      "('Concentrations', 3961)\n",
      "('Climate', 3164)\n",
      "('Dr.', 3164)\n",
      "('on', 2367)\n",
      "('World', 1582)\n",
      "('National', 1582)"
     ]
    }
   ],
   "source": [
    "files_rdd = sc.textFile(\"s3://trustedtrabajo1/trusted/atm_con.txt\")\n",
    "wc_unsort = files_rdd.flatMap(lambda line: line.split()).map(lambda word: (word, 1)).reduceByKey(lambda a, b: a + b)\n",
    "wc = wc_unsort.sortBy(lambda a: -a[1])\n",
    "for tupla in wc.take(10):\n",
    "        print(tupla)"
   ]
  },
  {
   "cell_type": "code",
   "execution_count": 36,
   "id": "cb179144",
   "metadata": {},
   "outputs": [
    {
     "data": {
      "application/vnd.jupyter.widget-view+json": {
       "model_id": "",
       "version_major": 2,
       "version_minor": 0
      },
      "text/plain": [
       "FloatProgress(value=0.0, bar_style='info', description='Progress:', layout=Layout(height='25px', width='50%'),…"
      ]
     },
     "metadata": {},
     "output_type": "display_data"
    }
   ],
   "source": [
    "from pyspark.sql import SparkSession\n",
    "\n",
    "# spark local:\n",
    "spark = SparkSession.builder.master(\"local[*]\").getOrCreate()\n",
    "\n",
    "# spark conectado con Amazon AWS:\n",
    "\n",
    "spark = SparkSession.builder.appName(\"data_processing\").master(\"local[*]\").config(\"spark.driver.memory\",\"16G\").config(\"spark.driver.maxResultSize\", \"0\").config(\"spark.kryoserializer.buffer.max\", \"2000M\").config(\"spark.jars.packages\", \"com.amazonaws:aws-java-sdk:1.11.1034,org.apache.hadoop:hadoop-aws:3.3.4\").config('fs.s3a.access.key', \"AWS_ACCESS_KEY\").config('fs.s3a.secret.key', \"AWS_SECRET_KEY\").config('fs.s3a.session.token',\"AWS_SESSION_TOKEN\").config('fs.s3a.path.style.access', 'true').config('fs.s3a.impl', 'org.apache.hadoop.fs.s3a.S3AFileSystem').config('fs.s3a.endpoint', 's3.amazonaws.com').getOrCreate()"
   ]
  },
  {
   "cell_type": "markdown",
   "id": "266d7f3b",
   "metadata": {},
   "source": [
    "Aca extraemos las datablas directamente desde el bucket de S3:"
   ]
  },
  {
   "cell_type": "code",
   "execution_count": 4,
   "id": "37d65762",
   "metadata": {},
   "outputs": [
    {
     "data": {
      "application/vnd.jupyter.widget-view+json": {
       "model_id": "",
       "version_major": 2,
       "version_minor": 0
      },
      "text/plain": [
       "FloatProgress(value=0.0, bar_style='info', description='Progress:', layout=Layout(height='25px', width='50%'),…"
      ]
     },
     "metadata": {},
     "output_type": "display_data"
    }
   ],
   "source": [
    "df2=spark.read.csv('s3://rawtrabajo1/raw/ATM_CON/atm_con.csv',inferSchema=True,header=True, sep = ';')"
   ]
  },
  {
   "cell_type": "code",
   "execution_count": 5,
   "id": "116ab89d",
   "metadata": {},
   "outputs": [
    {
     "data": {
      "application/vnd.jupyter.widget-view+json": {
       "model_id": "",
       "version_major": 2,
       "version_minor": 0
      },
      "text/plain": [
       "FloatProgress(value=0.0, bar_style='info', description='Progress:', layout=Layout(height='25px', width='50%'),…"
      ]
     },
     "metadata": {},
     "output_type": "display_data"
    },
    {
     "name": "stderr",
     "output_type": "stream",
     "text": [
      "An error was encountered:\n",
      "name 'df' is not defined\n",
      "Traceback (most recent call last):\n",
      "NameError: name 'df' is not defined\n",
      "\n"
     ]
    }
   ],
   "source": [
    "print(df2.columns) #Mostramos los nombres de las columnas que contiene la tabla\n",
    "print(len(df2.columns)) #Numero de columnas\n",
    "print(df2.count()) #Cantidad de datos que contiene el dataframe\n",
    "print((df2.count(),len(df.columns))) #Tamaño del dataframe (cantidad de columnas y filas)"
   ]
  },
  {
   "cell_type": "markdown",
   "id": "0a4ff48c",
   "metadata": {},
   "source": [
    "Mostramos el esquema de como esta creada la tabla: las columnas que contiene, el tipo de dato de cada columna y si cuenta con nulos o no:"
   ]
  },
  {
   "cell_type": "code",
   "execution_count": 109,
   "id": "f90376c0",
   "metadata": {},
   "outputs": [
    {
     "data": {
      "application/vnd.jupyter.widget-view+json": {
       "model_id": "",
       "version_major": 2,
       "version_minor": 0
      },
      "text/plain": [
       "FloatProgress(value=0.0, bar_style='info', description='Progress:', layout=Layout(height='25px', width='50%'),…"
      ]
     },
     "metadata": {},
     "output_type": "display_data"
    },
    {
     "name": "stdout",
     "output_type": "stream",
     "text": [
      "root\n",
      " |-- objectid: long (nullable = true)\n",
      " |-- country: string (nullable = true)\n",
      " |-- iso2: string (nullable = true)\n",
      " |-- iso3: string (nullable = true)\n",
      " |-- indicator: string (nullable = true)\n",
      " |-- unit: string (nullable = true)\n",
      " |-- source: string (nullable = true)\n",
      " |-- cts_code: string (nullable = true)\n",
      " |-- cts_name: string (nullable = true)\n",
      " |-- cts_full_descriptor: string (nullable = true)\n",
      " |-- date: string (nullable = true)\n",
      " |-- value: string (nullable = true)\n",
      " |-- year: string (nullable = true)"
     ]
    }
   ],
   "source": [
    "df2.printSchema()"
   ]
  },
  {
   "cell_type": "markdown",
   "id": "af035a72",
   "metadata": {},
   "source": [
    "df.printSchema() "
   ]
  },
  {
   "cell_type": "code",
   "execution_count": 111,
   "id": "a158d994",
   "metadata": {},
   "outputs": [
    {
     "data": {
      "application/vnd.jupyter.widget-view+json": {
       "model_id": "",
       "version_major": 2,
       "version_minor": 0
      },
      "text/plain": [
       "FloatProgress(value=0.0, bar_style='info', description='Progress:', layout=Layout(height='25px', width='50%'),…"
      ]
     },
     "metadata": {},
     "output_type": "display_data"
    },
    {
     "name": "stdout",
     "output_type": "stream",
     "text": [
      "+--------+-------+----+----+--------------------+---------------+--------------------+--------+--------------------+--------------------+-------+------+----+\n",
      "|objectid|country|iso2|iso3|           indicator|           unit|              source|cts_code|            cts_name| cts_full_descriptor|   date| value|year|\n",
      "+--------+-------+----+----+--------------------+---------------+--------------------+--------+--------------------+--------------------+-------+------+----+\n",
      "|       1|  World|    | WLD|MonthlyAtmospheri...|PartsPerMillion|Dr.PieterTansNati...|    ECCA|AtmosphericCarbon...|EnvironmentClimat...|1958M03|315.71|1958|\n",
      "|       2|  World|    | WLD|MonthlyAtmospheri...|PartsPerMillion|Dr.PieterTansNati...|    ECCA|AtmosphericCarbon...|EnvironmentClimat...|1958M04|317.45|1958|\n",
      "|       3|  World|    | WLD|MonthlyAtmospheri...|PartsPerMillion|Dr.PieterTansNati...|    ECCA|AtmosphericCarbon...|EnvironmentClimat...|1958M05|317.51|1958|\n",
      "|       4|  World|    | WLD|MonthlyAtmospheri...|PartsPerMillion|Dr.PieterTansNati...|    ECCA|AtmosphericCarbon...|EnvironmentClimat...|1958M06|317.27|1958|\n",
      "|       5|  World|    | WLD|MonthlyAtmospheri...|PartsPerMillion|Dr.PieterTansNati...|    ECCA|AtmosphericCarbon...|EnvironmentClimat...|1958M07|315.87|1958|\n",
      "+--------+-------+----+----+--------------------+---------------+--------------------+--------+--------------------+--------------------+-------+------+----+\n",
      "only showing top 5 rows"
     ]
    }
   ],
   "source": [
    "df2.show(5)\n"
   ]
  },
  {
   "cell_type": "markdown",
   "id": "e64b7f0a",
   "metadata": {},
   "source": [
    "Hacemos un select para conocer los paises, el indicador, la fecha y el valor de las concentraciones de carbono en la atmosfera:"
   ]
  },
  {
   "cell_type": "code",
   "execution_count": 112,
   "id": "6643fbba",
   "metadata": {},
   "outputs": [
    {
     "data": {
      "application/vnd.jupyter.widget-view+json": {
       "model_id": "",
       "version_major": 2,
       "version_minor": 0
      },
      "text/plain": [
       "FloatProgress(value=0.0, bar_style='info', description='Progress:', layout=Layout(height='25px', width='50%'),…"
      ]
     },
     "metadata": {},
     "output_type": "display_data"
    },
    {
     "name": "stdout",
     "output_type": "stream",
     "text": [
      "+-------+--------------------+----+------+\n",
      "|Country|           Indicator|year| value|\n",
      "+-------+--------------------+----+------+\n",
      "|  World|MonthlyAtmospheri...|1958|315.71|\n",
      "|  World|MonthlyAtmospheri...|1958|317.45|\n",
      "|  World|MonthlyAtmospheri...|1958|317.51|\n",
      "|  World|MonthlyAtmospheri...|1958|317.27|\n",
      "|  World|MonthlyAtmospheri...|1958|315.87|\n",
      "+-------+--------------------+----+------+\n",
      "only showing top 5 rows"
     ]
    }
   ],
   "source": [
    "df2.select('Country','Indicator', 'year' ,'value').show(5)"
   ]
  },
  {
   "cell_type": "markdown",
   "id": "d9f323da",
   "metadata": {},
   "source": [
    "Sacamos estadisticos para analizar el comportamiento de cada variable como la cantidad de datos, el promedio, valores minimos y maximos, como value es la unica variable que tenemos numerica, calculamos los estadisticos para esta:"
   ]
  },
  {
   "cell_type": "code",
   "execution_count": 85,
   "id": "3ee24fa2",
   "metadata": {},
   "outputs": [
    {
     "data": {
      "application/vnd.jupyter.widget-view+json": {
       "model_id": "",
       "version_major": 2,
       "version_minor": 0
      },
      "text/plain": [
       "FloatProgress(value=0.0, bar_style='info', description='Progress:', layout=Layout(height='25px', width='50%'),…"
      ]
     },
     "metadata": {},
     "output_type": "display_data"
    },
    {
     "name": "stdout",
     "output_type": "stream",
     "text": [
      "+-------+------------------+\n",
      "|summary|             value|\n",
      "+-------+------------------+\n",
      "|  count|              1582|\n",
      "|   mean|181.23111251580275|\n",
      "| stddev|180.88644331662368|\n",
      "|    min|             -0.11|\n",
      "|    max|            426.91|\n",
      "+-------+------------------+"
     ]
    }
   ],
   "source": [
    "df2.describe('value').show() #estadisticos para cada variable"
   ]
  },
  {
   "cell_type": "markdown",
   "id": "ad249756",
   "metadata": {},
   "source": [
    "Hacemos procesamiento de las variables:"
   ]
  },
  {
   "cell_type": "code",
   "execution_count": 86,
   "id": "35d29026",
   "metadata": {},
   "outputs": [
    {
     "data": {
      "application/vnd.jupyter.widget-view+json": {
       "model_id": "",
       "version_major": 2,
       "version_minor": 0
      },
      "text/plain": [
       "FloatProgress(value=0.0, bar_style='info', description='Progress:', layout=Layout(height='25px', width='50%'),…"
      ]
     },
     "metadata": {},
     "output_type": "display_data"
    }
   ],
   "source": [
    "from pyspark.sql.types import StringType,DoubleType,IntegerType"
   ]
  },
  {
   "cell_type": "code",
   "execution_count": 91,
   "id": "e16c0dea",
   "metadata": {},
   "outputs": [
    {
     "data": {
      "application/vnd.jupyter.widget-view+json": {
       "model_id": "",
       "version_major": 2,
       "version_minor": 0
      },
      "text/plain": [
       "FloatProgress(value=0.0, bar_style='info', description='Progress:', layout=Layout(height='25px', width='50%'),…"
      ]
     },
     "metadata": {},
     "output_type": "display_data"
    },
    {
     "name": "stdout",
     "output_type": "stream",
     "text": [
      "+--------+-------+----+----+--------------------+---------------+--------------------+--------+--------------------+--------------------+-------+------+------------+\n",
      "|ObjectId|Country|ISO2|ISO3|           Indicator|           Unit|              Source|CTS_Code|            CTS_Name| CTS_Full_Descriptor|   Date| Value|value_double|\n",
      "+--------+-------+----+----+--------------------+---------------+--------------------+--------+--------------------+--------------------+-------+------+------------+\n",
      "|       1|  World|null| WLD|MonthlyAtmospheri...|PartsPerMillion|Dr.PieterTansNati...|    ECCA|AtmosphericCarbon...|EnvironmentClimat...|1958M03|315.71|      315.71|\n",
      "|       2|  World|null| WLD|MonthlyAtmospheri...|PartsPerMillion|Dr.PieterTansNati...|    ECCA|AtmosphericCarbon...|EnvironmentClimat...|1958M04|317.45|      317.45|\n",
      "|       3|  World|null| WLD|MonthlyAtmospheri...|PartsPerMillion|Dr.PieterTansNati...|    ECCA|AtmosphericCarbon...|EnvironmentClimat...|1958M05|317.51|      317.51|\n",
      "|       4|  World|null| WLD|MonthlyAtmospheri...|PartsPerMillion|Dr.PieterTansNati...|    ECCA|AtmosphericCarbon...|EnvironmentClimat...|1958M06|317.27|      317.27|\n",
      "|       5|  World|null| WLD|MonthlyAtmospheri...|PartsPerMillion|Dr.PieterTansNati...|    ECCA|AtmosphericCarbon...|EnvironmentClimat...|1958M07|315.87|      315.87|\n",
      "|       6|  World|null| WLD|MonthlyAtmospheri...|PartsPerMillion|Dr.PieterTansNati...|    ECCA|AtmosphericCarbon...|EnvironmentClimat...|1958M08|314.93|      314.93|\n",
      "|       7|  World|null| WLD|MonthlyAtmospheri...|PartsPerMillion|Dr.PieterTansNati...|    ECCA|AtmosphericCarbon...|EnvironmentClimat...|1958M09|313.21|      313.21|\n",
      "|       8|  World|null| WLD|MonthlyAtmospheri...|PartsPerMillion|Dr.PieterTansNati...|    ECCA|AtmosphericCarbon...|EnvironmentClimat...|1958M10|312.42|      312.42|\n",
      "|       9|  World|null| WLD|MonthlyAtmospheri...|PartsPerMillion|Dr.PieterTansNati...|    ECCA|AtmosphericCarbon...|EnvironmentClimat...|1958M11|313.33|      313.33|\n",
      "|      10|  World|null| WLD|MonthlyAtmospheri...|PartsPerMillion|Dr.PieterTansNati...|    ECCA|AtmosphericCarbon...|EnvironmentClimat...|1958M12|314.67|      314.67|\n",
      "|      11|  World|null| WLD|MonthlyAtmospheri...|PartsPerMillion|Dr.PieterTansNati...|    ECCA|AtmosphericCarbon...|EnvironmentClimat...|1959M01|315.58|      315.58|\n",
      "|      12|  World|null| WLD|MonthlyAtmospheri...|PartsPerMillion|Dr.PieterTansNati...|    ECCA|AtmosphericCarbon...|EnvironmentClimat...|1959M02|316.49|      316.49|\n",
      "|      13|  World|null| WLD|MonthlyAtmospheri...|PartsPerMillion|Dr.PieterTansNati...|    ECCA|AtmosphericCarbon...|EnvironmentClimat...|1959M03|316.65|      316.65|\n",
      "|      14|  World|null| WLD|MonthlyAtmospheri...|        Percent|Dr.PieterTansNati...|    ECCA|AtmosphericCarbon...|EnvironmentClimat...|1959M03|   0.3|         0.3|\n",
      "|      15|  World|null| WLD|MonthlyAtmospheri...|PartsPerMillion|Dr.PieterTansNati...|    ECCA|AtmosphericCarbon...|EnvironmentClimat...|1959M04|317.72|      317.72|\n",
      "|      16|  World|null| WLD|MonthlyAtmospheri...|        Percent|Dr.PieterTansNati...|    ECCA|AtmosphericCarbon...|EnvironmentClimat...|1959M04|  0.09|        0.09|\n",
      "|      17|  World|null| WLD|MonthlyAtmospheri...|PartsPerMillion|Dr.PieterTansNati...|    ECCA|AtmosphericCarbon...|EnvironmentClimat...|1959M05|318.29|      318.29|\n",
      "|      18|  World|null| WLD|MonthlyAtmospheri...|        Percent|Dr.PieterTansNati...|    ECCA|AtmosphericCarbon...|EnvironmentClimat...|1959M05|  0.25|        0.25|\n",
      "|      19|  World|null| WLD|MonthlyAtmospheri...|PartsPerMillion|Dr.PieterTansNati...|    ECCA|AtmosphericCarbon...|EnvironmentClimat...|1959M06|318.15|      318.15|\n",
      "|      20|  World|null| WLD|MonthlyAtmospheri...|        Percent|Dr.PieterTansNati...|    ECCA|AtmosphericCarbon...|EnvironmentClimat...|1959M06|  0.28|        0.28|\n",
      "+--------+-------+----+----+--------------------+---------------+--------------------+--------+--------------------+--------------------+-------+------+------------+\n",
      "only showing top 20 rows"
     ]
    }
   ],
   "source": [
    "df2.withColumn('value_double',df2['value'].cast(DoubleType())).show()"
   ]
  },
  {
   "cell_type": "code",
   "execution_count": 95,
   "id": "630cda1b",
   "metadata": {},
   "outputs": [
    {
     "data": {
      "application/vnd.jupyter.widget-view+json": {
       "model_id": "",
       "version_major": 2,
       "version_minor": 0
      },
      "text/plain": [
       "FloatProgress(value=0.0, bar_style='info', description='Progress:', layout=Layout(height='25px', width='50%'),…"
      ]
     },
     "metadata": {},
     "output_type": "display_data"
    },
    {
     "name": "stdout",
     "output_type": "stream",
     "text": [
      "+--------+-------+----+----+--------------------+-------+--------------------+--------+--------------------+--------------------+-------+-----+\n",
      "|objectid|country|iso2|iso3|           indicator|   unit|              source|cts_code|            cts_name| cts_full_descriptor|   date|value|\n",
      "+--------+-------+----+----+--------------------+-------+--------------------+--------+--------------------+--------------------+-------+-----+\n",
      "|      14|  World|    | WLD|MonthlyAtmospheri...|Percent|Dr.PieterTansNati...|    ECCA|AtmosphericCarbon...|EnvironmentClimat...|1959M03|  0.3|\n",
      "|      16|  World|    | WLD|MonthlyAtmospheri...|Percent|Dr.PieterTansNati...|    ECCA|AtmosphericCarbon...|EnvironmentClimat...|1959M04| 0.09|\n",
      "|      18|  World|    | WLD|MonthlyAtmospheri...|Percent|Dr.PieterTansNati...|    ECCA|AtmosphericCarbon...|EnvironmentClimat...|1959M05| 0.25|\n",
      "|      20|  World|    | WLD|MonthlyAtmospheri...|Percent|Dr.PieterTansNati...|    ECCA|AtmosphericCarbon...|EnvironmentClimat...|1959M06| 0.28|\n",
      "|      22|  World|    | WLD|MonthlyAtmospheri...|Percent|Dr.PieterTansNati...|    ECCA|AtmosphericCarbon...|EnvironmentClimat...|1959M07| 0.21|\n",
      "|      24|  World|    | WLD|MonthlyAtmospheri...|Percent|Dr.PieterTansNati...|    ECCA|AtmosphericCarbon...|EnvironmentClimat...|1959M08|-0.04|\n",
      "|      26|  World|    | WLD|MonthlyAtmospheri...|Percent|Dr.PieterTansNati...|    ECCA|AtmosphericCarbon...|EnvironmentClimat...|1959M09|  0.2|\n",
      "|      28|  World|    | WLD|MonthlyAtmospheri...|Percent|Dr.PieterTansNati...|    ECCA|AtmosphericCarbon...|EnvironmentClimat...|1959M10| 0.29|\n",
      "|      30|  World|    | WLD|MonthlyAtmospheri...|Percent|Dr.PieterTansNati...|    ECCA|AtmosphericCarbon...|EnvironmentClimat...|1959M11| 0.47|\n",
      "|      32|  World|    | WLD|MonthlyAtmospheri...|Percent|Dr.PieterTansNati...|    ECCA|AtmosphericCarbon...|EnvironmentClimat...|1959M12| 0.29|\n",
      "|      34|  World|    | WLD|MonthlyAtmospheri...|Percent|Dr.PieterTansNati...|    ECCA|AtmosphericCarbon...|EnvironmentClimat...|1960M01| 0.27|\n",
      "|      36|  World|    | WLD|MonthlyAtmospheri...|Percent|Dr.PieterTansNati...|    ECCA|AtmosphericCarbon...|EnvironmentClimat...|1960M02| 0.15|\n",
      "|      38|  World|    | WLD|MonthlyAtmospheri...|Percent|Dr.PieterTansNati...|    ECCA|AtmosphericCarbon...|EnvironmentClimat...|1960M03| 0.29|\n",
      "|      40|  World|    | WLD|MonthlyAtmospheri...|Percent|Dr.PieterTansNati...|    ECCA|AtmosphericCarbon...|EnvironmentClimat...|1960M04| 0.41|\n",
      "|      42|  World|    | WLD|MonthlyAtmospheri...|Percent|Dr.PieterTansNati...|    ECCA|AtmosphericCarbon...|EnvironmentClimat...|1960M05| 0.55|\n",
      "|      44|  World|    | WLD|MonthlyAtmospheri...|Percent|Dr.PieterTansNati...|    ECCA|AtmosphericCarbon...|EnvironmentClimat...|1960M06| 0.45|\n",
      "|      46|  World|    | WLD|MonthlyAtmospheri...|Percent|Dr.PieterTansNati...|    ECCA|AtmosphericCarbon...|EnvironmentClimat...|1960M07| 0.52|\n",
      "|      48|  World|    | WLD|MonthlyAtmospheri...|Percent|Dr.PieterTansNati...|    ECCA|AtmosphericCarbon...|EnvironmentClimat...|1960M08| 0.35|\n",
      "|      50|  World|    | WLD|MonthlyAtmospheri...|Percent|Dr.PieterTansNati...|    ECCA|AtmosphericCarbon...|EnvironmentClimat...|1960M09| 0.11|\n",
      "|      52|  World|    | WLD|MonthlyAtmospheri...|Percent|Dr.PieterTansNati...|    ECCA|AtmosphericCarbon...|EnvironmentClimat...|1960M10| 0.16|\n",
      "+--------+-------+----+----+--------------------+-------+--------------------+--------+--------------------+--------------------+-------+-----+\n",
      "only showing top 20 rows"
     ]
    }
   ],
   "source": [
    "df2.filter(df2['unit']=='Percent').show()"
   ]
  },
  {
   "cell_type": "code",
   "execution_count": 6,
   "id": "893993f8",
   "metadata": {},
   "outputs": [
    {
     "data": {
      "application/vnd.jupyter.widget-view+json": {
       "model_id": "",
       "version_major": 2,
       "version_minor": 0
      },
      "text/plain": [
       "FloatProgress(value=0.0, bar_style='info', description='Progress:', layout=Layout(height='25px', width='50%'),…"
      ]
     },
     "metadata": {},
     "output_type": "display_data"
    },
    {
     "name": "stderr",
     "output_type": "stream",
     "text": [
      "An error was encountered:\n",
      "name 'df' is not defined\n",
      "Traceback (most recent call last):\n",
      "NameError: name 'df' is not defined\n",
      "\n"
     ]
    }
   ],
   "source": [
    "df2.filter(df['unit']=='Percent').select('Country','indicator','unit', 'year','value').show() #porcentaje "
   ]
  },
  {
   "cell_type": "code",
   "execution_count": 8,
   "id": "a2a9339e",
   "metadata": {},
   "outputs": [
    {
     "data": {
      "application/vnd.jupyter.widget-view+json": {
       "model_id": "",
       "version_major": 2,
       "version_minor": 0
      },
      "text/plain": [
       "FloatProgress(value=0.0, bar_style='info', description='Progress:', layout=Layout(height='25px', width='50%'),…"
      ]
     },
     "metadata": {},
     "output_type": "display_data"
    },
    {
     "name": "stdout",
     "output_type": "stream",
     "text": [
      "+--------+-------+----+----+--------------------+-------+--------------------+--------+--------------------+--------------------+-------+-----+\n",
      "|ObjectId|Country|ISO2|ISO3|           Indicator|   Unit|              Source|CTS_Code|            CTS_Name| CTS_Full_Descriptor|   Date|Value|\n",
      "+--------+-------+----+----+--------------------+-------+--------------------+--------+--------------------+--------------------+-------+-----+\n",
      "|      42|  World|null| WLD|MonthlyAtmospheri...|Percent|Dr.PieterTansNati...|    ECCA|AtmosphericCarbon...|EnvironmentClimat...|1960M05| 0.55|\n",
      "|      46|  World|null| WLD|MonthlyAtmospheri...|Percent|Dr.PieterTansNati...|    ECCA|AtmosphericCarbon...|EnvironmentClimat...|1960M07| 0.52|\n",
      "|     186|  World|null| WLD|MonthlyAtmospheri...|Percent|Dr.PieterTansNati...|    ECCA|AtmosphericCarbon...|EnvironmentClimat...|1966M05| 0.59|\n",
      "|     188|  World|null| WLD|MonthlyAtmospheri...|Percent|Dr.PieterTansNati...|    ECCA|AtmosphericCarbon...|EnvironmentClimat...|1966M06| 0.58|\n",
      "|     202|  World|null| WLD|MonthlyAtmospheri...|Percent|Dr.PieterTansNati...|    ECCA|AtmosphericCarbon...|EnvironmentClimat...|1967M01| 0.53|\n",
      "|     254|  World|null| WLD|MonthlyAtmospheri...|Percent|Dr.PieterTansNati...|    ECCA|AtmosphericCarbon...|EnvironmentClimat...|1969M03| 0.54|\n",
      "|     258|  World|null| WLD|MonthlyAtmospheri...|Percent|Dr.PieterTansNati...|    ECCA|AtmosphericCarbon...|EnvironmentClimat...|1969M05| 0.56|\n",
      "|     262|  World|null| WLD|MonthlyAtmospheri...|Percent|Dr.PieterTansNati...|    ECCA|AtmosphericCarbon...|EnvironmentClimat...|1969M07| 0.54|\n",
      "|     266|  World|null| WLD|MonthlyAtmospheri...|Percent|Dr.PieterTansNati...|    ECCA|AtmosphericCarbon...|EnvironmentClimat...|1969M09| 0.64|\n",
      "|     328|  World|null| WLD|MonthlyAtmospheri...|Percent|Dr.PieterTansNati...|    ECCA|AtmosphericCarbon...|EnvironmentClimat...|1972M04| 0.59|\n",
      "|     340|  World|null| WLD|MonthlyAtmospheri...|Percent|Dr.PieterTansNati...|    ECCA|AtmosphericCarbon...|EnvironmentClimat...|1972M10| 0.51|\n",
      "|     342|  World|null| WLD|MonthlyAtmospheri...|Percent|Dr.PieterTansNati...|    ECCA|AtmosphericCarbon...|EnvironmentClimat...|1972M11| 0.52|\n",
      "|     346|  World|null| WLD|MonthlyAtmospheri...|Percent|Dr.PieterTansNati...|    ECCA|AtmosphericCarbon...|EnvironmentClimat...|1973M01| 0.54|\n",
      "|     348|  World|null| WLD|MonthlyAtmospheri...|Percent|Dr.PieterTansNati...|    ECCA|AtmosphericCarbon...|EnvironmentClimat...|1973M02| 0.59|\n",
      "|     350|  World|null| WLD|MonthlyAtmospheri...|Percent|Dr.PieterTansNati...|    ECCA|AtmosphericCarbon...|EnvironmentClimat...|1973M03| 0.78|\n",
      "|     352|  World|null| WLD|MonthlyAtmospheri...|Percent|Dr.PieterTansNati...|    ECCA|AtmosphericCarbon...|EnvironmentClimat...|1973M04| 0.54|\n",
      "|     354|  World|null| WLD|MonthlyAtmospheri...|Percent|Dr.PieterTansNati...|    ECCA|AtmosphericCarbon...|EnvironmentClimat...|1973M05| 0.73|\n",
      "|     356|  World|null| WLD|MonthlyAtmospheri...|Percent|Dr.PieterTansNati...|    ECCA|AtmosphericCarbon...|EnvironmentClimat...|1973M06| 0.91|\n",
      "|     358|  World|null| WLD|MonthlyAtmospheri...|Percent|Dr.PieterTansNati...|    ECCA|AtmosphericCarbon...|EnvironmentClimat...|1973M07| 0.86|\n",
      "|     360|  World|null| WLD|MonthlyAtmospheri...|Percent|Dr.PieterTansNati...|    ECCA|AtmosphericCarbon...|EnvironmentClimat...|1973M08| 0.92|\n",
      "+--------+-------+----+----+--------------------+-------+--------------------+--------+--------------------+--------------------+-------+-----+\n",
      "only showing top 20 rows"
     ]
    }
   ],
   "source": [
    "df2.filter(df2['unit']=='Percent').filter(df2['value'] > 0.5 ).show()"
   ]
  },
  {
   "cell_type": "code",
   "execution_count": 98,
   "id": "d7b79d64",
   "metadata": {},
   "outputs": [
    {
     "data": {
      "application/vnd.jupyter.widget-view+json": {
       "model_id": "",
       "version_major": 2,
       "version_minor": 0
      },
      "text/plain": [
       "FloatProgress(value=0.0, bar_style='info', description='Progress:', layout=Layout(height='25px', width='50%'),…"
      ]
     },
     "metadata": {},
     "output_type": "display_data"
    },
    {
     "name": "stdout",
     "output_type": "stream",
     "text": [
      "+--------------------+\n",
      "|           indicator|\n",
      "+--------------------+\n",
      "|MonthlyAtmospheri...|\n",
      "|MonthlyAtmospheri...|\n",
      "+--------------------+"
     ]
    }
   ],
   "source": [
    "df2.select('indicator').distinct().show()"
   ]
  },
  {
   "cell_type": "code",
   "execution_count": 99,
   "id": "a54a0304",
   "metadata": {},
   "outputs": [
    {
     "data": {
      "application/vnd.jupyter.widget-view+json": {
       "model_id": "",
       "version_major": 2,
       "version_minor": 0
      },
      "text/plain": [
       "FloatProgress(value=0.0, bar_style='info', description='Progress:', layout=Layout(height='25px', width='50%'),…"
      ]
     },
     "metadata": {},
     "output_type": "display_data"
    },
    {
     "name": "stdout",
     "output_type": "stream",
     "text": [
      "2"
     ]
    }
   ],
   "source": [
    "df2.select('indicator').distinct().count()\n"
   ]
  },
  {
   "cell_type": "code",
   "execution_count": 100,
   "id": "1314bde9",
   "metadata": {},
   "outputs": [
    {
     "data": {
      "application/vnd.jupyter.widget-view+json": {
       "model_id": "",
       "version_major": 2,
       "version_minor": 0
      },
      "text/plain": [
       "FloatProgress(value=0.0, bar_style='info', description='Progress:', layout=Layout(height='25px', width='50%'),…"
      ]
     },
     "metadata": {},
     "output_type": "display_data"
    },
    {
     "name": "stdout",
     "output_type": "stream",
     "text": [
      "+-----------------------------------------------------------------------+-----+\n",
      "|indicator                                                              |count|\n",
      "+-----------------------------------------------------------------------+-----+\n",
      "|MonthlyAtmosphericCarbonDioxideConcentrationsYearonYearPercentageChange|785  |\n",
      "|MonthlyAtmosphericCarbonDioxideConcentrations                          |797  |\n",
      "+-----------------------------------------------------------------------+-----+"
     ]
    }
   ],
   "source": [
    "df2.groupBy('indicator').count().show(5,False)\n"
   ]
  },
  {
   "cell_type": "code",
   "execution_count": 101,
   "id": "34612ff8",
   "metadata": {},
   "outputs": [
    {
     "data": {
      "application/vnd.jupyter.widget-view+json": {
       "model_id": "",
       "version_major": 2,
       "version_minor": 0
      },
      "text/plain": [
       "FloatProgress(value=0.0, bar_style='info', description='Progress:', layout=Layout(height='25px', width='50%'),…"
      ]
     },
     "metadata": {},
     "output_type": "display_data"
    },
    {
     "name": "stdout",
     "output_type": "stream",
     "text": [
      "+-----------------------------------------------------------------------+-----+\n",
      "|indicator                                                              |count|\n",
      "+-----------------------------------------------------------------------+-----+\n",
      "|MonthlyAtmosphericCarbonDioxideConcentrations                          |797  |\n",
      "|MonthlyAtmosphericCarbonDioxideConcentrationsYearonYearPercentageChange|785  |\n",
      "+-----------------------------------------------------------------------+-----+"
     ]
    }
   ],
   "source": [
    "df2.groupBy('indicator').count().orderBy('count',ascending=False).show(5,False)"
   ]
  },
  {
   "cell_type": "code",
   "execution_count": 116,
   "id": "d555684e",
   "metadata": {},
   "outputs": [
    {
     "data": {
      "application/vnd.jupyter.widget-view+json": {
       "model_id": "",
       "version_major": 2,
       "version_minor": 0
      },
      "text/plain": [
       "FloatProgress(value=0.0, bar_style='info', description='Progress:', layout=Layout(height='25px', width='50%'),…"
      ]
     },
     "metadata": {},
     "output_type": "display_data"
    },
    {
     "name": "stdout",
     "output_type": "stream",
     "text": [
      "+----+-------------+\n",
      "|year|sum(objectid)|\n",
      "+----+-------------+\n",
      "|1962|2220         |\n",
      "|1964|3372         |\n",
      "|1965|3948         |\n",
      "|1966|4524         |\n",
      "|1963|2796         |\n",
      "+----+-------------+\n",
      "only showing top 5 rows"
     ]
    }
   ],
   "source": [
    "df2.groupBy('year').sum().show(5,False)"
   ]
  },
  {
   "cell_type": "code",
   "execution_count": 119,
   "id": "a9b8e337",
   "metadata": {},
   "outputs": [
    {
     "data": {
      "application/vnd.jupyter.widget-view+json": {
       "model_id": "",
       "version_major": 2,
       "version_minor": 0
      },
      "text/plain": [
       "FloatProgress(value=0.0, bar_style='info', description='Progress:', layout=Layout(height='25px', width='50%'),…"
      ]
     },
     "metadata": {},
     "output_type": "display_data"
    },
    {
     "name": "stdout",
     "output_type": "stream",
     "text": [
      "+----+-------------+\n",
      "|year|max(objectid)|\n",
      "+----+-------------+\n",
      "|1962|104          |\n",
      "|1964|152          |\n",
      "|1965|176          |\n",
      "|1966|200          |\n",
      "|1963|128          |\n",
      "+----+-------------+\n",
      "only showing top 5 rows\n",
      "\n",
      "None\n",
      "+----+-------------+\n",
      "|year|min(objectid)|\n",
      "+----+-------------+\n",
      "|1962|81           |\n",
      "|1964|129          |\n",
      "|1965|153          |\n",
      "|1966|177          |\n",
      "|1963|105          |\n",
      "+----+-------------+\n",
      "only showing top 5 rows\n",
      "\n",
      "None"
     ]
    }
   ],
   "source": [
    "print(df2.groupBy('year').max().show(5,False))\n",
    "print(df2.groupBy('year').min().show(5,False))\n"
   ]
  },
  {
   "cell_type": "code",
   "execution_count": 120,
   "id": "7beea62c",
   "metadata": {},
   "outputs": [
    {
     "data": {
      "application/vnd.jupyter.widget-view+json": {
       "model_id": "",
       "version_major": 2,
       "version_minor": 0
      },
      "text/plain": [
       "FloatProgress(value=0.0, bar_style='info', description='Progress:', layout=Layout(height='25px', width='50%'),…"
      ]
     },
     "metadata": {},
     "output_type": "display_data"
    },
    {
     "name": "stdout",
     "output_type": "stream",
     "text": [
      "+----+------------------+\n",
      "|year|sum(value)        |\n",
      "+----+------------------+\n",
      "|1962|3824.5100000000007|\n",
      "|1964|3837.79           |\n",
      "|1965|3841.999999999999 |\n",
      "|1966|3861.39           |\n",
      "|1963|3829.93           |\n",
      "+----+------------------+\n",
      "only showing top 5 rows"
     ]
    }
   ],
   "source": [
    "df2.groupBy('year').agg({'value':'sum'}).show(5,False)"
   ]
  },
  {
   "cell_type": "code",
   "execution_count": 11,
   "id": "81374ea5",
   "metadata": {},
   "outputs": [
    {
     "data": {
      "application/vnd.jupyter.widget-view+json": {
       "model_id": "",
       "version_major": 2,
       "version_minor": 0
      },
      "text/plain": [
       "FloatProgress(value=0.0, bar_style='info', description='Progress:', layout=Layout(height='25px', width='50%'),…"
      ]
     },
     "metadata": {},
     "output_type": "display_data"
    }
   ],
   "source": [
    "from pyspark.sql.functions import udf\n",
    "from pyspark.sql.types import StringType, FloatType\n"
   ]
  },
  {
   "cell_type": "code",
   "execution_count": 122,
   "id": "3798f625",
   "metadata": {},
   "outputs": [
    {
     "data": {
      "application/vnd.jupyter.widget-view+json": {
       "model_id": "",
       "version_major": 2,
       "version_minor": 0
      },
      "text/plain": [
       "FloatProgress(value=0.0, bar_style='info', description='Progress:', layout=Layout(height='25px', width='50%'),…"
      ]
     },
     "metadata": {},
     "output_type": "display_data"
    },
    {
     "name": "stdout",
     "output_type": "stream",
     "text": [
      "+--------+-------+----+----+---------------------------------------------+---------------+---------------------------------------------------------------------------------------------------------------------------------------------------------------------------------------------------------------------------------------------------------------+--------+--------------------------------------+-------------------------------------------------------------------------------+-------+------+----+------------+\n",
      "|objectid|country|iso2|iso3|indicator                                    |unit           |source                                                                                                                                                                                                                                                         |cts_code|cts_name                              |cts_full_descriptor                                                            |date   |value |year|cant_carbono|\n",
      "+--------+-------+----+----+---------------------------------------------+---------------+---------------------------------------------------------------------------------------------------------------------------------------------------------------------------------------------------------------------------------------------------------------+--------+--------------------------------------+-------------------------------------------------------------------------------+-------+------+----+------------+\n",
      "|1       |World  |    |WLD |MonthlyAtmosphericCarbonDioxideConcentrations|PartsPerMillion|Dr.PieterTansNationalOceanicandAtmosphericAdministration(NOAA).GlobalMonitoringLaboratoryTrendsinAtmosphericCarbonDioxideData(https://gml.noaa.gov/ccgg/trends/)andDr.RalphKeelingScrippsInstitutionofOceanographyCarbonDioxideMeasurements(https://scrippsco2.|ECCA    |AtmosphericCarbonDioxideConcentrations|EnvironmentClimateChangeClimateandWeatherAtmosphericCarbonDioxideConcentrations|1958M03|315.71|1958|Bajo carbono|\n",
      "|2       |World  |    |WLD |MonthlyAtmosphericCarbonDioxideConcentrations|PartsPerMillion|Dr.PieterTansNationalOceanicandAtmosphericAdministration(NOAA).GlobalMonitoringLaboratoryTrendsinAtmosphericCarbonDioxideData(https://gml.noaa.gov/ccgg/trends/)andDr.RalphKeelingScrippsInstitutionofOceanographyCarbonDioxideMeasurements(https://scrippsco2.|ECCA    |AtmosphericCarbonDioxideConcentrations|EnvironmentClimateChangeClimateandWeatherAtmosphericCarbonDioxideConcentrations|1958M04|317.45|1958|Bajo carbono|\n",
      "|3       |World  |    |WLD |MonthlyAtmosphericCarbonDioxideConcentrations|PartsPerMillion|Dr.PieterTansNationalOceanicandAtmosphericAdministration(NOAA).GlobalMonitoringLaboratoryTrendsinAtmosphericCarbonDioxideData(https://gml.noaa.gov/ccgg/trends/)andDr.RalphKeelingScrippsInstitutionofOceanographyCarbonDioxideMeasurements(https://scrippsco2.|ECCA    |AtmosphericCarbonDioxideConcentrations|EnvironmentClimateChangeClimateandWeatherAtmosphericCarbonDioxideConcentrations|1958M05|317.51|1958|Bajo carbono|\n",
      "|4       |World  |    |WLD |MonthlyAtmosphericCarbonDioxideConcentrations|PartsPerMillion|Dr.PieterTansNationalOceanicandAtmosphericAdministration(NOAA).GlobalMonitoringLaboratoryTrendsinAtmosphericCarbonDioxideData(https://gml.noaa.gov/ccgg/trends/)andDr.RalphKeelingScrippsInstitutionofOceanographyCarbonDioxideMeasurements(https://scrippsco2.|ECCA    |AtmosphericCarbonDioxideConcentrations|EnvironmentClimateChangeClimateandWeatherAtmosphericCarbonDioxideConcentrations|1958M06|317.27|1958|Bajo carbono|\n",
      "|5       |World  |    |WLD |MonthlyAtmosphericCarbonDioxideConcentrations|PartsPerMillion|Dr.PieterTansNationalOceanicandAtmosphericAdministration(NOAA).GlobalMonitoringLaboratoryTrendsinAtmosphericCarbonDioxideData(https://gml.noaa.gov/ccgg/trends/)andDr.RalphKeelingScrippsInstitutionofOceanographyCarbonDioxideMeasurements(https://scrippsco2.|ECCA    |AtmosphericCarbonDioxideConcentrations|EnvironmentClimateChangeClimateandWeatherAtmosphericCarbonDioxideConcentrations|1958M07|315.87|1958|Bajo carbono|\n",
      "|6       |World  |    |WLD |MonthlyAtmosphericCarbonDioxideConcentrations|PartsPerMillion|Dr.PieterTansNationalOceanicandAtmosphericAdministration(NOAA).GlobalMonitoringLaboratoryTrendsinAtmosphericCarbonDioxideData(https://gml.noaa.gov/ccgg/trends/)andDr.RalphKeelingScrippsInstitutionofOceanographyCarbonDioxideMeasurements(https://scrippsco2.|ECCA    |AtmosphericCarbonDioxideConcentrations|EnvironmentClimateChangeClimateandWeatherAtmosphericCarbonDioxideConcentrations|1958M08|314.93|1958|Bajo carbono|\n",
      "|7       |World  |    |WLD |MonthlyAtmosphericCarbonDioxideConcentrations|PartsPerMillion|Dr.PieterTansNationalOceanicandAtmosphericAdministration(NOAA).GlobalMonitoringLaboratoryTrendsinAtmosphericCarbonDioxideData(https://gml.noaa.gov/ccgg/trends/)andDr.RalphKeelingScrippsInstitutionofOceanographyCarbonDioxideMeasurements(https://scrippsco2.|ECCA    |AtmosphericCarbonDioxideConcentrations|EnvironmentClimateChangeClimateandWeatherAtmosphericCarbonDioxideConcentrations|1958M09|313.21|1958|Bajo carbono|\n",
      "|8       |World  |    |WLD |MonthlyAtmosphericCarbonDioxideConcentrations|PartsPerMillion|Dr.PieterTansNationalOceanicandAtmosphericAdministration(NOAA).GlobalMonitoringLaboratoryTrendsinAtmosphericCarbonDioxideData(https://gml.noaa.gov/ccgg/trends/)andDr.RalphKeelingScrippsInstitutionofOceanographyCarbonDioxideMeasurements(https://scrippsco2.|ECCA    |AtmosphericCarbonDioxideConcentrations|EnvironmentClimateChangeClimateandWeatherAtmosphericCarbonDioxideConcentrations|1958M10|312.42|1958|Bajo carbono|\n",
      "|9       |World  |    |WLD |MonthlyAtmosphericCarbonDioxideConcentrations|PartsPerMillion|Dr.PieterTansNationalOceanicandAtmosphericAdministration(NOAA).GlobalMonitoringLaboratoryTrendsinAtmosphericCarbonDioxideData(https://gml.noaa.gov/ccgg/trends/)andDr.RalphKeelingScrippsInstitutionofOceanographyCarbonDioxideMeasurements(https://scrippsco2.|ECCA    |AtmosphericCarbonDioxideConcentrations|EnvironmentClimateChangeClimateandWeatherAtmosphericCarbonDioxideConcentrations|1958M11|313.33|1958|Bajo carbono|\n",
      "|10      |World  |    |WLD |MonthlyAtmosphericCarbonDioxideConcentrations|PartsPerMillion|Dr.PieterTansNationalOceanicandAtmosphericAdministration(NOAA).GlobalMonitoringLaboratoryTrendsinAtmosphericCarbonDioxideData(https://gml.noaa.gov/ccgg/trends/)andDr.RalphKeelingScrippsInstitutionofOceanographyCarbonDioxideMeasurements(https://scrippsco2.|ECCA    |AtmosphericCarbonDioxideConcentrations|EnvironmentClimateChangeClimateandWeatherAtmosphericCarbonDioxideConcentrations|1958M12|314.67|1958|Bajo carbono|\n",
      "+--------+-------+----+----+---------------------------------------------+---------------+---------------------------------------------------------------------------------------------------------------------------------------------------------------------------------------------------------------------------------------------------------------+--------+--------------------------------------+-------------------------------------------------------------------------------+-------+------+----+------------+\n",
      "only showing top 10 rows"
     ]
    }
   ],
   "source": [
    "def cant_carbono(value):\n",
    "    try:\n",
    "        value = float(value) \n",
    "        if value < 412:\n",
    "            return 'Bajo carbono'\n",
    "        else:\n",
    "            return 'Alto carbono'\n",
    "    except ValueError:\n",
    "        return 'Invalid value'  \n",
    "\n",
    "cant_udf = udf(cant_carbono, StringType())\n",
    "df2 = df2.withColumn('cant_carbono', cant_udf(df2['value']))\n",
    "df2.show(10, False)"
   ]
  },
  {
   "cell_type": "code",
   "execution_count": 53,
   "id": "eb99c329",
   "metadata": {},
   "outputs": [
    {
     "data": {
      "application/vnd.jupyter.widget-view+json": {
       "model_id": "",
       "version_major": 2,
       "version_minor": 0
      },
      "text/plain": [
       "FloatProgress(value=0.0, bar_style='info', description='Progress:', layout=Layout(height='25px', width='50%'),…"
      ]
     },
     "metadata": {},
     "output_type": "display_data"
    }
   ],
   "source": [
    "from pyspark.sql.functions import pandas_udf, PandasUDFType\n"
   ]
  },
  {
   "cell_type": "code",
   "execution_count": 123,
   "id": "58e303b6",
   "metadata": {},
   "outputs": [
    {
     "data": {
      "application/vnd.jupyter.widget-view+json": {
       "model_id": "",
       "version_major": 2,
       "version_minor": 0
      },
      "text/plain": [
       "FloatProgress(value=0.0, bar_style='info', description='Progress:', layout=Layout(height='25px', width='50%'),…"
      ]
     },
     "metadata": {},
     "output_type": "display_data"
    }
   ],
   "source": [
    "def remaining_yrs(date):\n",
    "    yrs_left=100-year\n",
    "\n",
    "    return yrs_left"
   ]
  },
  {
   "cell_type": "code",
   "execution_count": 125,
   "id": "905cb24b",
   "metadata": {},
   "outputs": [
    {
     "data": {
      "application/vnd.jupyter.widget-view+json": {
       "model_id": "",
       "version_major": 2,
       "version_minor": 0
      },
      "text/plain": [
       "FloatProgress(value=0.0, bar_style='info', description='Progress:', layout=Layout(height='25px', width='50%'),…"
      ]
     },
     "metadata": {},
     "output_type": "display_data"
    },
    {
     "name": "stdout",
     "output_type": "stream",
     "text": [
      "1582\n",
      "1582"
     ]
    }
   ],
   "source": [
    "# eliminar duplicados\n",
    "print(df2.count())\n",
    "df2=df2.dropDuplicates()\n",
    "print(df2.count())"
   ]
  },
  {
   "cell_type": "code",
   "execution_count": 129,
   "id": "4094bcfe",
   "metadata": {},
   "outputs": [
    {
     "data": {
      "application/vnd.jupyter.widget-view+json": {
       "model_id": "",
       "version_major": 2,
       "version_minor": 0
      },
      "text/plain": [
       "FloatProgress(value=0.0, bar_style='info', description='Progress:', layout=Layout(height='25px', width='50%'),…"
      ]
     },
     "metadata": {},
     "output_type": "display_data"
    }
   ],
   "source": [
    "#drop column of dataframe\n",
    "df2_new=df2.drop('ISO3')"
   ]
  },
  {
   "cell_type": "code",
   "execution_count": 131,
   "id": "1fb97bb7",
   "metadata": {},
   "outputs": [
    {
     "data": {
      "application/vnd.jupyter.widget-view+json": {
       "model_id": "",
       "version_major": 2,
       "version_minor": 0
      },
      "text/plain": [
       "FloatProgress(value=0.0, bar_style='info', description='Progress:', layout=Layout(height='25px', width='50%'),…"
      ]
     },
     "metadata": {},
     "output_type": "display_data"
    },
    {
     "name": "stdout",
     "output_type": "stream",
     "text": [
      "+--------+-------+----+--------------------+---------------+--------------------+--------+--------------------+--------------------+-------+------+----+------------+\n",
      "|objectid|country|iso2|           indicator|           unit|              source|cts_code|            cts_name| cts_full_descriptor|   date| value|year|cant_carbono|\n",
      "+--------+-------+----+--------------------+---------------+--------------------+--------+--------------------+--------------------+-------+------+----+------------+\n",
      "|      35|  World|    |MonthlyAtmospheri...|PartsPerMillion|Dr.PieterTansNati...|    ECCA|AtmosphericCarbon...|EnvironmentClimat...|1960M02|316.98|1960|Bajo carbono|\n",
      "|      77|  World|    |MonthlyAtmospheri...|PartsPerMillion|Dr.PieterTansNati...|    ECCA|AtmosphericCarbon...|EnvironmentClimat...|1961M11| 316.1|1961|Bajo carbono|\n",
      "|     162|  World|    |MonthlyAtmospheri...|        Percent|Dr.PieterTansNati...|    ECCA|AtmosphericCarbon...|EnvironmentClimat...|1965M05| -0.02|1965|Bajo carbono|\n",
      "|      76|  World|    |MonthlyAtmospheri...|        Percent|Dr.PieterTansNati...|    ECCA|AtmosphericCarbon...|EnvironmentClimat...|1961M10|  0.47|1961|Bajo carbono|\n",
      "|       5|  World|    |MonthlyAtmospheri...|PartsPerMillion|Dr.PieterTansNati...|    ECCA|AtmosphericCarbon...|EnvironmentClimat...|1958M07|315.87|1958|Bajo carbono|\n",
      "|     173|  World|    |MonthlyAtmospheri...|PartsPerMillion|Dr.PieterTansNati...|    ECCA|AtmosphericCarbon...|EnvironmentClimat...|1965M11|318.87|1965|Bajo carbono|\n",
      "|     143|  World|    |MonthlyAtmospheri...|PartsPerMillion|Dr.PieterTansNati...|    ECCA|AtmosphericCarbon...|EnvironmentClimat...|1964M08|318.69|1964|Bajo carbono|\n",
      "|     126|  World|    |MonthlyAtmospheri...|        Percent|Dr.PieterTansNati...|    ECCA|AtmosphericCarbon...|EnvironmentClimat...|1963M11|  0.12|1963|Bajo carbono|\n",
      "|     123|  World|    |MonthlyAtmospheri...|PartsPerMillion|Dr.PieterTansNati...|    ECCA|AtmosphericCarbon...|EnvironmentClimat...|1963M10|315.99|1963|Bajo carbono|\n",
      "|     167|  World|    |MonthlyAtmospheri...|PartsPerMillion|Dr.PieterTansNati...|    ECCA|AtmosphericCarbon...|EnvironmentClimat...|1965M08|318.87|1965|Bajo carbono|\n",
      "+--------+-------+----+--------------------+---------------+--------------------+--------+--------------------+--------------------+-------+------+----+------------+\n",
      "only showing top 10 rows"
     ]
    }
   ],
   "source": [
    "df2_new.show(10)\n"
   ]
  },
  {
   "cell_type": "code",
   "execution_count": 12,
   "id": "429ff555",
   "metadata": {},
   "outputs": [
    {
     "data": {
      "application/vnd.jupyter.widget-view+json": {
       "model_id": "",
       "version_major": 2,
       "version_minor": 0
      },
      "text/plain": [
       "FloatProgress(value=0.0, bar_style='info', description='Progress:', layout=Layout(height='25px', width='50%'),…"
      ]
     },
     "metadata": {},
     "output_type": "display_data"
    },
    {
     "name": "stdout",
     "output_type": "stream",
     "text": [
      "+--------+-------+----+----+---------------------------------------------+---------------+-----------------------------------------------------------------------------------------------------------------------------------------------------------------------------------------------------------------------------------------------------------------------------------------------+--------+--------------------------------------+-------------------------------------------------------------------------------+-------+------+-------------+\n",
      "|ObjectId|Country|ISO2|ISO3|Indicator                                    |Unit           |Source                                                                                                                                                                                                                                                                                         |CTS_Code|CTS_Name                              |CTS_Full_Descriptor                                                            |Date   |value |cant_carbono2|\n",
      "+--------+-------+----+----+---------------------------------------------+---------------+-----------------------------------------------------------------------------------------------------------------------------------------------------------------------------------------------------------------------------------------------------------------------------------------------+--------+--------------------------------------+-------------------------------------------------------------------------------+-------+------+-------------+\n",
      "|1       |World  |null|WLD |MonthlyAtmosphericCarbonDioxideConcentrations|PartsPerMillion|Dr.PieterTansNationalOceanicandAtmosphericAdministration(NOAA).GlobalMonitoringLaboratoryTrendsinAtmosphericCarbonDioxideData(https://gml.noaa.gov/ccgg/trends/)andDr.RalphKeelingScrippsInstitutionofOceanographyCarbonDioxideMeasurements(https://scrippsco2.ucsd.edu/).Accessedon2023-01-09.|ECCA    |AtmosphericCarbonDioxideConcentrations|EnvironmentClimateChangeClimateandWeatherAtmosphericCarbonDioxideConcentrations|1958M03|315.71|Bajo carbono |\n",
      "|2       |World  |null|WLD |MonthlyAtmosphericCarbonDioxideConcentrations|PartsPerMillion|Dr.PieterTansNationalOceanicandAtmosphericAdministration(NOAA).GlobalMonitoringLaboratoryTrendsinAtmosphericCarbonDioxideData(https://gml.noaa.gov/ccgg/trends/)andDr.RalphKeelingScrippsInstitutionofOceanographyCarbonDioxideMeasurements(https://scrippsco2.ucsd.edu/).Accessedon2023-01-09.|ECCA    |AtmosphericCarbonDioxideConcentrations|EnvironmentClimateChangeClimateandWeatherAtmosphericCarbonDioxideConcentrations|1958M04|317.45|Bajo carbono |\n",
      "|3       |World  |null|WLD |MonthlyAtmosphericCarbonDioxideConcentrations|PartsPerMillion|Dr.PieterTansNationalOceanicandAtmosphericAdministration(NOAA).GlobalMonitoringLaboratoryTrendsinAtmosphericCarbonDioxideData(https://gml.noaa.gov/ccgg/trends/)andDr.RalphKeelingScrippsInstitutionofOceanographyCarbonDioxideMeasurements(https://scrippsco2.ucsd.edu/).Accessedon2023-01-09.|ECCA    |AtmosphericCarbonDioxideConcentrations|EnvironmentClimateChangeClimateandWeatherAtmosphericCarbonDioxideConcentrations|1958M05|317.51|Bajo carbono |\n",
      "|4       |World  |null|WLD |MonthlyAtmosphericCarbonDioxideConcentrations|PartsPerMillion|Dr.PieterTansNationalOceanicandAtmosphericAdministration(NOAA).GlobalMonitoringLaboratoryTrendsinAtmosphericCarbonDioxideData(https://gml.noaa.gov/ccgg/trends/)andDr.RalphKeelingScrippsInstitutionofOceanographyCarbonDioxideMeasurements(https://scrippsco2.ucsd.edu/).Accessedon2023-01-09.|ECCA    |AtmosphericCarbonDioxideConcentrations|EnvironmentClimateChangeClimateandWeatherAtmosphericCarbonDioxideConcentrations|1958M06|317.27|Bajo carbono |\n",
      "|5       |World  |null|WLD |MonthlyAtmosphericCarbonDioxideConcentrations|PartsPerMillion|Dr.PieterTansNationalOceanicandAtmosphericAdministration(NOAA).GlobalMonitoringLaboratoryTrendsinAtmosphericCarbonDioxideData(https://gml.noaa.gov/ccgg/trends/)andDr.RalphKeelingScrippsInstitutionofOceanographyCarbonDioxideMeasurements(https://scrippsco2.ucsd.edu/).Accessedon2023-01-09.|ECCA    |AtmosphericCarbonDioxideConcentrations|EnvironmentClimateChangeClimateandWeatherAtmosphericCarbonDioxideConcentrations|1958M07|315.87|Bajo carbono |\n",
      "|6       |World  |null|WLD |MonthlyAtmosphericCarbonDioxideConcentrations|PartsPerMillion|Dr.PieterTansNationalOceanicandAtmosphericAdministration(NOAA).GlobalMonitoringLaboratoryTrendsinAtmosphericCarbonDioxideData(https://gml.noaa.gov/ccgg/trends/)andDr.RalphKeelingScrippsInstitutionofOceanographyCarbonDioxideMeasurements(https://scrippsco2.ucsd.edu/).Accessedon2023-01-09.|ECCA    |AtmosphericCarbonDioxideConcentrations|EnvironmentClimateChangeClimateandWeatherAtmosphericCarbonDioxideConcentrations|1958M08|314.93|Bajo carbono |\n",
      "|7       |World  |null|WLD |MonthlyAtmosphericCarbonDioxideConcentrations|PartsPerMillion|Dr.PieterTansNationalOceanicandAtmosphericAdministration(NOAA).GlobalMonitoringLaboratoryTrendsinAtmosphericCarbonDioxideData(https://gml.noaa.gov/ccgg/trends/)andDr.RalphKeelingScrippsInstitutionofOceanographyCarbonDioxideMeasurements(https://scrippsco2.ucsd.edu/).Accessedon2023-01-09.|ECCA    |AtmosphericCarbonDioxideConcentrations|EnvironmentClimateChangeClimateandWeatherAtmosphericCarbonDioxideConcentrations|1958M09|313.21|Bajo carbono |\n",
      "|8       |World  |null|WLD |MonthlyAtmosphericCarbonDioxideConcentrations|PartsPerMillion|Dr.PieterTansNationalOceanicandAtmosphericAdministration(NOAA).GlobalMonitoringLaboratoryTrendsinAtmosphericCarbonDioxideData(https://gml.noaa.gov/ccgg/trends/)andDr.RalphKeelingScrippsInstitutionofOceanographyCarbonDioxideMeasurements(https://scrippsco2.ucsd.edu/).Accessedon2023-01-09.|ECCA    |AtmosphericCarbonDioxideConcentrations|EnvironmentClimateChangeClimateandWeatherAtmosphericCarbonDioxideConcentrations|1958M10|312.42|Bajo carbono |\n",
      "|9       |World  |null|WLD |MonthlyAtmosphericCarbonDioxideConcentrations|PartsPerMillion|Dr.PieterTansNationalOceanicandAtmosphericAdministration(NOAA).GlobalMonitoringLaboratoryTrendsinAtmosphericCarbonDioxideData(https://gml.noaa.gov/ccgg/trends/)andDr.RalphKeelingScrippsInstitutionofOceanographyCarbonDioxideMeasurements(https://scrippsco2.ucsd.edu/).Accessedon2023-01-09.|ECCA    |AtmosphericCarbonDioxideConcentrations|EnvironmentClimateChangeClimateandWeatherAtmosphericCarbonDioxideConcentrations|1958M11|313.33|Bajo carbono |\n",
      "|10      |World  |null|WLD |MonthlyAtmosphericCarbonDioxideConcentrations|PartsPerMillion|Dr.PieterTansNationalOceanicandAtmosphericAdministration(NOAA).GlobalMonitoringLaboratoryTrendsinAtmosphericCarbonDioxideData(https://gml.noaa.gov/ccgg/trends/)andDr.RalphKeelingScrippsInstitutionofOceanographyCarbonDioxideMeasurements(https://scrippsco2.ucsd.edu/).Accessedon2023-01-09.|ECCA    |AtmosphericCarbonDioxideConcentrations|EnvironmentClimateChangeClimateandWeatherAtmosphericCarbonDioxideConcentrations|1958M12|314.67|Bajo carbono |\n",
      "+--------+-------+----+----+---------------------------------------------+---------------+-----------------------------------------------------------------------------------------------------------------------------------------------------------------------------------------------------------------------------------------------------------------------------------------------+--------+--------------------------------------+-------------------------------------------------------------------------------+-------+------+-------------+\n",
      "only showing top 10 rows"
     ]
    }
   ],
   "source": [
    "df2_sin_null = df2.withColumn(\"value\", df2[\"value\"].cast(\"float\"))\n",
    "\n",
    "#Agregar la clasificación por medio de lambda\n",
    "cant_carbono_udf = udf(lambda value: \"Bajo carbono\" if value < 412 else \"Alto carbono\", StringType())\n",
    "\n",
    "df2_sin_null.withColumn(\"cant_carbono2\", cant_carbono_udf(df2_sin_null.value)).show(10,False)"
   ]
  },
  {
   "cell_type": "code",
   "execution_count": 13,
   "id": "c3ced20c",
   "metadata": {},
   "outputs": [
    {
     "data": {
      "application/vnd.jupyter.widget-view+json": {
       "model_id": "",
       "version_major": 2,
       "version_minor": 0
      },
      "text/plain": [
       "FloatProgress(value=0.0, bar_style='info', description='Progress:', layout=Layout(height='25px', width='50%'),…"
      ]
     },
     "metadata": {},
     "output_type": "display_data"
    }
   ],
   "source": [
    " write_uri='s3://trustedtrabajo1/trusted/spark_atm'"
   ]
  },
  {
   "cell_type": "code",
   "execution_count": 14,
   "id": "da2fa7e3",
   "metadata": {},
   "outputs": [
    {
     "data": {
      "application/vnd.jupyter.widget-view+json": {
       "model_id": "",
       "version_major": 2,
       "version_minor": 0
      },
      "text/plain": [
       "FloatProgress(value=0.0, bar_style='info', description='Progress:', layout=Layout(height='25px', width='50%'),…"
      ]
     },
     "metadata": {},
     "output_type": "display_data"
    }
   ],
   "source": [
    "df2_sin_null.coalesce(1).write.format(\"csv\").option(\"header\",\"true\").save(write_uri)"
   ]
  },
  {
   "cell_type": "markdown",
   "id": "9e401534",
   "metadata": {},
   "source": [
    "# Tabla Temp_change: Hacemos un select para traernos todos los campos y conocer la información con la que contamos"
   ]
  },
  {
   "cell_type": "code",
   "execution_count": 2,
   "id": "06be3022",
   "metadata": {},
   "outputs": [
    {
     "data": {
      "application/vnd.jupyter.widget-view+json": {
       "model_id": "",
       "version_major": 2,
       "version_minor": 0
      },
      "text/plain": [
       "FloatProgress(value=0.0, bar_style='info', description='Progress:', layout=Layout(height='25px', width='50%'),…"
      ]
     },
     "metadata": {},
     "output_type": "display_data"
    },
    {
     "name": "stdout",
     "output_type": "stream",
     "text": [
      "+--------+--------------------+----+----+--------------------+--------------+--------------------+--------+--------------------+--------------------+--------+--------+--------+--------+--------+--------+--------+--------+--------+--------+--------+--------+--------+--------+--------+--------+--------+--------+--------+--------+--------+--------+--------+--------+--------+--------+--------+--------+--------+-------+--------+--------+--------+--------+--------+--------+--------+--------+--------+--------+--------+-------+--------+-------+-------+--------+--------+-------+-------+-------+-------+--------+-------+-------+--------+-------+-------+-------+-------+-------+--------+-------+-------+\n",
      "|objectid|             country|iso2|iso3|           indicator|          unit|              source|cts_code|            cts_name| cts_full_descriptor|   f1961|   f1962|   f1963|   f1964|   f1965|   f1966|   f1967|   f1968|   f1969|   f1970|   f1971|   f1972|   f1973|   f1974|   f1975|   f1976|   f1977|   f1978|   f1979|   f1980|   f1981|   f1982|   f1983|   f1984|   f1985|   f1986|   f1987|   f1988|   f1989|  f1990|   f1991|   f1992|   f1993|   f1994|   f1995|   f1996|   f1997|   f1998|   f1999|   f2000|   f2001|  f2002|   f2003|  f2004|  f2005|   f2006|   f2007|  f2008|  f2009|  f2010|  f2011|   f2012|  f2013|  f2014|   f2015|  f2016|  f2017|  f2018|  f2019|  f2020|   f2021|  f2022|  f2023|\n",
      "+--------+--------------------+----+----+--------------------+--------------+--------------------+--------+--------------------+--------------------+--------+--------+--------+--------+--------+--------+--------+--------+--------+--------+--------+--------+--------+--------+--------+--------+--------+--------+--------+--------+--------+--------+--------+--------+--------+--------+--------+--------+--------+-------+--------+--------+--------+--------+--------+--------+--------+--------+--------+--------+--------+-------+--------+-------+-------+--------+--------+-------+-------+-------+-------+--------+-------+-------+--------+-------+-------+-------+-------+-------+--------+-------+-------+\n",
      "|    null|             Country| ISO| ISO|           Indicator|          Unit|              Source|CTS_Code|            CTS_Name| CTS_Full_Descriptor|    null|    null|    null|    null|    null|    null|    null|    null|    null|    null|    null|    null|    null|    null|    null|    null|    null|    null|    null|    null|    null|    null|    null|    null|    null|    null|    null|    null|    null|   null|    null|    null|    null|    null|    null|    null|    null|    null|    null|    null|    null|   null|    null|   null|   null|    null|    null|   null|   null|   null|   null|    null|   null|   null|    null|   null|   null|   null|   null|   null|    null|   null|   null|\n",
      "|       1|Afghanistan, Isla...|  AF| AFG|Temperature chang...|Degree Celsius|Food and Agricult...|    ECCS|Surface Temperatu...|Environment, Clim...|-0.12600|-0.17300| 0.84400|-0.75100|-0.22000| 0.23900|-0.34800|-0.39800|-0.51300| 0.84300| 0.64200|-1.09500| 0.26400|-0.46600|-0.44200|-0.29100| 0.54400| 0.12000| 0.38000| 0.65500| 0.55800|-0.28600| 0.24000| 0.25200| 0.39700|-0.01500| 0.49300| 1.03500| 0.01500|0.92500|-0.05100|-0.21200| 0.25400| 0.54600| 0.45700|-0.09300| 0.46000| 0.66400| 1.27100| 1.06400| 1.37700|1.45700| 0.71000|1.48200|0.51300| 1.83800| 0.79400|0.80800|0.94800|1.66400|1.45500| 0.27100|1.34500|0.52100| 1.20400|1.61200|1.64200|1.62400|0.99100|0.58700| 1.47500|2.15400|1.95600|\n",
      "|       2|              Africa|    | AFR|Temperature chang...|Degree Celsius|Food and Agricult...|    ECCS|Surface Temperatu...|Environment, Clim...|-0.01700|-0.03600| 0.06300|-0.15600|-0.20100| 0.13800|-0.21500|-0.22100| 0.35500| 0.22000|-0.19800| 0.00100| 0.37700|-0.23200|-0.23100|-0.25200| 0.24000| 0.09000| 0.44500| 0.37600| 0.10900| 0.22200| 0.41800| 0.34800| 0.30700| 0.29500| 0.68500| 0.61800| 0.00000|0.56800| 0.37500| 0.09200| 0.37300| 0.39300| 0.54900| 0.51500| 0.58100| 0.94900| 0.62200| 0.45800| 0.66000|0.88600| 1.00200|0.81400|1.08100| 0.92500| 0.79300|0.72400|0.96000|1.50100|0.91300| 0.76000|1.02100|1.01300| 1.19000|1.39200|1.18000|1.17800|1.29700|1.20000| 1.39600|0.99600|1.48500|\n",
      "|       3|             Albania|  AL| ALB|Temperature chang...|Degree Celsius|Food and Agricult...|    ECCS|Surface Temperatu...|Environment, Clim...| 0.63500| 0.34200| 0.08600|-0.16900|-0.39000| 0.55300|-0.08200| 0.06200|-0.03600|-0.13700|-0.20500|-0.08100|-0.29400|-0.12800|-0.20300|-0.67700| 0.53000|-0.82500| 0.19100|-0.42200|-0.34600| 0.20700|-0.08800|-0.23800|-0.07200| 0.60000|-0.07800| 0.39700|-0.04100|0.80900|-0.28000| 0.10600| 0.11300| 1.36000|-0.13700| 0.00600| 0.11100| 0.82100| 0.72400| 1.08400| 1.55100|0.51900| 1.02600|0.47200|0.21700| 0.39000| 1.38900|1.04300|0.97700|1.26100|1.12500| 1.54600|1.39400|1.28500| 1.66700|1.55800|1.19600|2.10300|1.75100|1.56700| 1.58900|1.58500|2.12200|\n",
      "|       4|             Algeria|  DZ| DZA|Temperature chang...|Degree Celsius|Food and Agricult...|    ECCS|Surface Temperatu...|Environment, Clim...| 0.15500| 0.12000| 0.05000| 0.25400|-0.11100| 0.40500|-0.02400|-0.06500| 0.24700| 0.08000|-0.41200|-0.36000|-0.02300|-0.50600|-0.56900|-0.79900| 0.55000| 0.06000| 0.70600| 0.26600| 0.24900| 0.42100| 0.61700| 0.05400| 0.55200| 0.34700| 1.05000| 1.40200| 0.45300|1.33200| 0.10200|-0.23200| 0.64500| 0.83000| 0.68700| 0.92300| 1.11300| 1.15600| 1.50200| 0.86200| 1.89500|1.29100| 1.61900|1.01600|1.28900| 1.42200| 1.24900|1.20500|0.95800|2.27500|1.40300| 1.16600|1.22100|1.71300| 1.15300|1.78700|1.53300|1.23100|1.10700|1.90500| 2.36000|1.77600|2.27400|\n",
      "|       5|      American Samoa|  AS| ASM|Temperature chang...|Degree Celsius|Food and Agricult...|    ECCS|Surface Temperatu...|Environment, Clim...| 0.12100| 0.00000| 0.21100|-0.08900|-0.59500| 0.12900|-0.38700|-0.18500| 0.14500|-0.03400|-0.42000|-0.05600| 0.33000|-0.30000|-0.11000|-0.16900| 0.15700| 0.09300| 0.34200| 0.34400| 0.16500| 0.28800| 0.30900| 0.25700| 0.23500| 0.37500| 0.33300| 0.51000| 0.16700|0.52000| 0.67700| 0.33500|-0.09200| 0.14100| 0.73200| 0.78700|    null|    null| 0.24000| 0.60400| 0.88200|1.13000| 0.71200|0.24400|0.87800| 0.48000| 0.92800|0.49800|   null|1.13100|0.68100| 0.72000|1.01200|0.84000| 0.67900|1.20900|1.10500|0.85900|1.20900|1.10100| 0.93800|0.92500|0.95100|\n",
      "|       6|            Americas|    | AME|Temperature chang...|Degree Celsius|Food and Agricult...|    ECCS|Surface Temperatu...|Environment, Clim...| 0.05300|-0.08400| 0.26400|-0.24400|-0.30000|-0.10400|-0.11300|-0.00300| 0.09800| 0.15600|-0.23900|-0.45400| 0.16400|-0.28300|-0.12300|-0.13600| 0.50500|-0.07200|-0.07200| 0.50600| 0.69700|-0.09300| 0.45100| 0.07200|-0.00900| 0.28700| 0.83600| 0.56000| 0.17400|0.36700| 0.41900| 0.25200| 0.26800| 0.50300| 0.71100| 0.18600| 0.56700| 1.41700| 0.79700| 0.72500| 0.85100|0.77700| 0.98100|0.67900|1.03900| 1.22300| 0.92300|0.57100|0.68100|1.31300|0.86500| 1.34800|0.84600|0.72400| 1.35200|1.76600|1.35300|0.94900|1.22900|1.30300| 1.55800|1.07500|1.77200|\n",
      "|       7|Andorra, Principa...|  AD| AND|Temperature chang...|Degree Celsius|Food and Agricult...|    ECCS|Surface Temperatu...|Environment, Clim...| 0.75600| 0.12000|-0.74400| 0.31500|-0.48900| 0.41400| 0.63600| 0.00500|-0.15800| 0.10600|-0.33300|-0.47900|-0.00300|-0.38300| 0.22300|-0.06200|-0.10900|-0.17900| 0.03400|-0.21500| 0.14500| 1.02000| 0.82000|-0.19900| 0.01200| 0.35000| 0.37100| 0.85200| 1.14700|1.71200| 0.19200| 0.34900| 0.14600| 1.47800| 1.26700| 0.56300| 1.76100| 0.99900| 1.03700| 1.03600| 1.48600|0.84300| 1.96600|0.94400|0.86500| 1.49500| 1.01800|0.93200|1.40000|0.45900|1.66600| 1.25200|0.81500|1.91700| 1.63100|1.91800|1.85400|1.83500|1.88400|2.48000| 1.45000|3.15500|2.78600|\n",
      "|       8|              Angola|  AO| AGO|Temperature chang...|Degree Celsius|Food and Agricult...|    ECCS|Surface Temperatu...|Environment, Clim...| 0.06000|-0.13200|-0.17100|-0.21000|-0.17300| 0.19800|-0.08600|-0.20200| 0.17300| 0.24600|-0.07500|-0.01200| 0.45000|-0.20100|-0.07500|-0.33900| 0.22100| 0.07000| 0.32400| 0.31000|-0.06400| 0.13700| 0.47900| 0.64200| 0.69600| 0.17300| 0.71100| 0.58100| 0.00100|0.69300| 0.30600| 0.45600| 0.24800| 0.32200| 0.75700| 0.38300| 0.23500| 1.12900| 0.39200| 0.20500| 0.29000|0.71700| 0.91200|0.34800|1.08500| 0.45500| 0.77700|0.42000|0.63600|1.16700|0.84400| 0.55800|1.00500|0.79200| 1.32600|1.69200|0.94300|1.30600|1.78500|1.10800| 1.40100|1.13600|1.17500|\n",
      "|       9|            Anguilla|  AI| AIA|Temperature chang...|Degree Celsius|Food and Agricult...|    ECCS|Surface Temperatu...|Environment, Clim...| 0.05800|-0.03400| 0.24200| 0.05100|-0.31700| 0.12600|-0.13600|-0.25500| 0.30900| 0.20900|-0.18500|-0.07300| 0.31000|-0.22900|-0.25400|-0.28400| 0.28700| 0.36000| 0.32100| 0.72600| 0.74800| 0.41000| 0.70100| 0.11000| 0.11100| 0.18600| 0.80300| 0.56100| 0.02700|0.47700| 0.57500| 0.51200| 0.63500| 0.60700| 0.77500| 0.52000| 0.73400| 1.24800| 0.66000| 0.49900|    null|0.69900| 0.97700|0.60900|1.00700| 0.75000| 0.88700|0.30000|0.52100|1.29400|0.58100| 0.68400|0.70200|0.70800| 1.00200|1.17400|0.92500|0.78800|0.87900|1.17900| 0.87900|0.78700|1.11600|\n",
      "|      10|          Antarctica|    | ATA|Temperature chang...|Degree Celsius|Food and Agricult...|    ECCS|Surface Temperatu...|Environment, Clim...| 0.28000|-0.22800| 0.13500|-0.36600|-0.09900|-0.24000| 0.13300|-0.08700|-0.25500|-0.13300| 0.28100| 0.62100| 0.01100| 0.16900| 0.17700|-0.63400| 0.25000|-0.11800|-0.23400| 0.56500| 0.70600|-0.03100|-0.69300| 0.12400| 0.17700|-0.27100|-0.70100| 0.95200|-0.44100|0.28500| 0.67400| 0.33000|-0.72200|-0.06900|-0.24200| 0.80600|-0.51300|-0.39800|-0.55100|-0.79300|-0.06800|1.32700|-0.45500|0.15400|0.85800|-0.03000| 0.68200|0.56700|1.32000|0.84900|0.77100|-0.20400|1.74400|0.57000|-0.02000|0.23400|0.78800|1.45100|0.64000|0.79800|-0.56900|0.48000|0.48000|\n",
      "|      11| Antigua and Barbuda|  AG| ATG|Temperature chang...|Degree Celsius|Food and Agricult...|    ECCS|Surface Temperatu...|Environment, Clim...| 0.06500|-0.08000| 0.18300| 0.05700|-0.44100| 0.15800|-0.13600|-0.25500| 0.30900| 0.20900|-0.18500|-0.07300| 0.31000|-0.22900|-0.25400|-0.28400| 0.28700| 0.36000| 0.32100| 0.72600| 0.74800| 0.41000| 0.70100| 0.11000| 0.11100| 0.18600| 0.80300| 0.56100| 0.02700|0.47700| 0.57500| 0.51200| 0.63500| 0.60700| 0.77500| 0.52000| 0.73400| 1.24800| 0.66000| 0.49900|    null|0.69900| 0.97700|0.60900|1.00700| 0.75000| 0.88700|0.30000|0.52100|1.29400|0.58100| 0.68400|0.70200|0.70800| 1.00200|1.17400|0.92500|0.78800|0.87900|1.17900| 0.87900|0.78700|1.11600|\n",
      "|      12|           Argentina|  AR| ARG|Temperature chang...|Degree Celsius|Food and Agricult...|    ECCS|Surface Temperatu...|Environment, Clim...| 0.12200|-0.06000| 0.16500|-0.34500| 0.09200|-0.16400|-0.00100| 0.47900| 0.29700| 0.43700|-0.26500|-0.01100|-0.14100|-0.13200|-0.05600|-0.35000| 0.40500| 0.33200| 0.24600| 0.35100| 0.35400| 0.34200| 0.03100|-0.10400| 0.30300| 0.44600| 0.41700|-0.23400| 0.57200|0.40400| 0.22600|-0.29700| 0.03900| 0.44000| 0.20300| 0.45700| 0.69900| 0.28400| 0.09800|-0.24900| 0.35700|0.20800| 0.58400|0.40400|0.19700| 0.50900|-0.26100|0.50400|0.75100|0.04500|0.28400| 0.73600|0.41900|0.93700| 0.93100|0.48000|1.07600|0.86000|0.75100|1.10400| 1.00900|0.62800|1.51900|\n",
      "|      13|    Armenia, Rep. of|  AM| ARM|Temperature chang...|Degree Celsius|Food and Agricult...|    ECCS|Surface Temperatu...|Environment, Clim...|    null|    null|    null|    null|    null|    null|    null|    null|    null|    null|    null|    null|    null|    null|    null|    null|    null|    null|    null|    null|    null|    null|    null|    null|    null|    null|    null|    null|    null|   null|    null|-1.30500|-0.93600| 0.47700| 0.69400| 0.47400| 0.72500| 1.34900| 1.55600| 1.10000| 1.46900|1.19900| 0.17500|1.14200|0.54900| 1.63500| 0.74400|0.87500|0.69200|2.77200|0.65500| 1.28500|1.35500|1.23600| 1.89600|1.33100|0.88300|2.73900|1.86400|1.95400| 2.18300|1.84500|2.25800|\n",
      "|      14|Aruba, Kingdom of...|  AW| ABW|Temperature chang...|Degree Celsius|Food and Agricult...|    ECCS|Surface Temperatu...|Environment, Clim...|-0.23700| 0.10000| 0.02000| 0.21200|-0.43000| 0.13000|-0.26800|-0.06200| 0.53100| 0.30300|-0.24000| 0.07300| 0.30100|-0.43700|-0.19700|-0.41600| 0.28000| 0.51900|    null| 0.63000| 0.38300| 0.40500| 0.73000| 0.20300|-0.18600|-0.15100| 0.70900| 0.42900|-0.12400|0.18300| 0.41700| 0.59000|    null| 0.40400| 0.67900| 0.85400| 0.61100| 1.28000| 0.38300| 0.09700| 0.70800|0.86300| 0.91700|0.45800|0.59800| 0.63200| 0.89400|0.16000|0.42900|1.00000|0.29800| 0.56400|1.03100|0.81800| 1.65700|0.99500|1.15700|0.66400|0.98600|1.28500|    null|   null|   null|\n",
      "|      15|                Asia|    | ASI|Temperature chang...|Degree Celsius|Food and Agricult...|    ECCS|Surface Temperatu...|Environment, Clim...| 0.04400|-0.01800| 0.27000|-0.17100|-0.02800| 0.33000|-0.30500|-0.32900|-0.00700| 0.07800|-0.12300|-0.16500| 0.24600|-0.13500| 0.01600|-0.32900| 0.10100| 0.16100| 0.45200| 0.28100| 0.20800| 0.12900|-0.00200|-0.11500| 0.02700| 0.06600| 0.41800| 0.43700| 0.27500|0.53600| 0.41500|-0.04600| 0.09700| 0.55300| 0.64500| 0.20000| 0.62900| 1.06700| 1.11600| 0.70900| 1.04600|1.19500| 0.67700|1.12200|0.89600| 1.13600| 1.21500|0.90500|1.10400|1.28400|0.72700| 0.72500|1.08100|0.92900| 1.30500|1.47600|1.48000|1.35300|1.38800|1.50600| 1.54000|1.72300|1.77800|\n",
      "|      16|           Australia|  AU| AUS|Temperature chang...|Degree Celsius|Food and Agricult...|    ECCS|Surface Temperatu...|Environment, Clim...| 0.15800| 0.13200|-0.09700|-0.01500| 0.14700|-0.22900|-0.08100|-0.19900| 0.11000| 0.00700|-0.01000| 0.10300| 0.84100|-0.34800| 0.05300|-0.52000| 0.16400| 0.05800| 0.34500| 0.84300| 0.44600| 0.13800| 0.58200|-0.21100| 0.29400| 0.33600| 0.31200| 0.91600| 0.10000|0.50000| 0.76300| 0.24000| 0.43600| 0.17000| 0.35800| 0.53900| 0.32100| 1.02800| 0.51600| 0.08400| 0.27500|0.66700| 0.77500|0.65600|1.12600| 0.63900| 0.85500|0.54600|0.95000|0.59300|0.13500| 0.22800|1.41300|1.10700| 0.99600|1.10200|1.07900|1.06100|1.34600|1.33700| 0.56900|0.68100|0.86000|\n",
      "|      17|             Austria|  AT| AUT|Temperature chang...|Degree Celsius|Food and Agricult...|    ECCS|Surface Temperatu...|Environment, Clim...| 1.02800|-0.62300|-0.72800|-0.36900|-0.88000| 0.60900| 0.68400| 0.21800|-0.12000|-0.54400|-0.05400| 0.10800|-0.02700| 0.31800| 0.86700| 0.22200| 0.50600|-0.46900|-0.10600|-0.26600| 0.28600| 0.39500| 1.07300|-0.23900|-0.56200| 0.32500|-0.25500| 0.82800| 1.11200|1.27100| 0.13500| 1.25600| 0.53600| 1.96700| 0.94900|-0.19300| 0.52400| 1.35400| 0.99200| 1.77400| 1.50800|1.54200| 1.47400|0.84000|0.63800| 0.91900| 2.15100|1.59700|1.55400|0.66800|1.38400| 1.79200|1.10500|2.42100| 2.17500|2.10000|1.74600|2.53000|2.37500|2.32200| 1.41000|2.53800|2.57200|\n",
      "|      18| Azerbaijan, Rep. of|  AZ| AZE|Temperature chang...|Degree Celsius|Food and Agricult...|    ECCS|Surface Temperatu...|Environment, Clim...|    null|    null|    null|    null|    null|    null|    null|    null|    null|    null|    null|    null|    null|    null|    null|    null|    null|    null|    null|    null|    null|    null|    null|    null|    null|    null|    null|    null|    null|   null|    null|-0.84000|-1.01600| 0.09300| 1.00400| 0.23300| 0.57700| 1.17700| 1.22400| 1.08800| 1.39600|1.43000|-0.10400|1.32300|0.87900| 1.52400| 0.97900|0.88200|0.77800|2.32800|0.73300| 1.42100|1.49800|1.15300| 1.59400|1.35600|1.19900|2.13100|1.87800|1.88900| 1.95800|2.02900|2.16000|\n",
      "|      19|        Bahamas, The|  BS| BHS|Temperature chang...|Degree Celsius|Food and Agricult...|    ECCS|Surface Temperatu...|Environment, Clim...| 0.01600|-0.14000|-0.17300| 0.11600| 0.00800|-0.16600|-0.18000|-0.31700|-0.10800|-0.53900|-0.13200| 0.44900| 0.31000| 0.06800| 0.46600|-0.19000| 0.11800| 0.17900| 0.26200| 0.41000|-0.06400| 0.52100| 0.21100| 0.08800| 0.30100| 0.28700| 0.45600| 0.40300| 0.68100|0.78900| 0.81000| 0.29800| 0.37200| 0.78600| 0.73400| 0.08300| 0.84300| 0.98900| 0.68400| 0.26900| 0.20000|0.92000| 1.06700|0.39800|0.47700| 0.38900| 0.91300|0.89400|0.48700|0.38200|0.45800| 0.53900|0.75100|1.06600| 1.26700|1.20700|1.47600|1.18000|1.60000|1.71500| 0.71400|1.30400|1.68800|\n",
      "+--------+--------------------+----+----+--------------------+--------------+--------------------+--------+--------------------+--------------------+--------+--------+--------+--------+--------+--------+--------+--------+--------+--------+--------+--------+--------+--------+--------+--------+--------+--------+--------+--------+--------+--------+--------+--------+--------+--------+--------+--------+--------+-------+--------+--------+--------+--------+--------+--------+--------+--------+--------+--------+--------+-------+--------+-------+-------+--------+--------+-------+-------+-------+-------+--------+-------+-------+--------+-------+-------+-------+-------+-------+--------+-------+-------+\n",
      "only showing top 20 rows"
     ]
    }
   ],
   "source": [
    "df = spark.sql(\"select * from labsdb.temp_change\")\n",
    "df.show()"
   ]
  },
  {
   "cell_type": "code",
   "execution_count": 3,
   "id": "ec47df8b",
   "metadata": {},
   "outputs": [
    {
     "data": {
      "application/vnd.jupyter.widget-view+json": {
       "model_id": "",
       "version_major": 2,
       "version_minor": 0
      },
      "text/plain": [
       "FloatProgress(value=0.0, bar_style='info', description='Progress:', layout=Layout(height='25px', width='50%'),…"
      ]
     },
     "metadata": {},
     "output_type": "display_data"
    },
    {
     "name": "stdout",
     "output_type": "stream",
     "text": [
      "('Climate', 944)\n",
      "('Temperature', 944)\n",
      "('and', 482)\n",
      "('the', 477)\n",
      "('Surface', 472)\n",
      "('Change', 472)\n",
      "('to', 472)\n",
      "('Change,', 472)\n",
      "('of', 282)\n",
      "('United', 241)"
     ]
    }
   ],
   "source": [
    "files_rdd = sc.textFile(\"s3://trustedtrabajo1/trusted/temp_change.txt\")\n",
    "wc_unsort = files_rdd.flatMap(lambda line: line.split()).map(lambda word: (word, 1)).reduceByKey(lambda a, b: a + b)\n",
    "wc = wc_unsort.sortBy(lambda a: -a[1])\n",
    "for tupla in wc.take(10):\n",
    "        print(tupla)"
   ]
  },
  {
   "cell_type": "code",
   "execution_count": 7,
   "id": "cf481ac0",
   "metadata": {},
   "outputs": [
    {
     "data": {
      "application/vnd.jupyter.widget-view+json": {
       "model_id": "",
       "version_major": 2,
       "version_minor": 0
      },
      "text/plain": [
       "FloatProgress(value=0.0, bar_style='info', description='Progress:', layout=Layout(height='25px', width='50%'),…"
      ]
     },
     "metadata": {},
     "output_type": "display_data"
    },
    {
     "name": "stdout",
     "output_type": "stream",
     "text": [
      "['ObjectId', 'Country', 'ISO2', 'ISO3', 'Indicator', 'Unit', 'Source', 'CTS_Code', 'CTS_Name', 'CTS_Full_Descriptor', 'F1961', 'F1962', 'F1963', 'F1964', 'F1965', 'F1966', 'F1967', 'F1968', 'F1969', 'F1970', 'F1971', 'F1972', 'F1973', 'F1974', 'F1975', 'F1976', 'F1977', 'F1978', 'F1979', 'F1980', 'F1981', 'F1982', 'F1983', 'F1984', 'F1985', 'F1986', 'F1987', 'F1988', 'F1989', 'F1990', 'F1991', 'F1992', 'F1993', 'F1994', 'F1995', 'F1996', 'F1997', 'F1998', 'F1999', 'F2000', 'F2001', 'F2002', 'F2003', 'F2004', 'F2005', 'F2006', 'F2007', 'F2008', 'F2009', 'F2010', 'F2011', 'F2012', 'F2013', 'F2014', 'F2015', 'F2016', 'F2017', 'F2018', 'F2019', 'F2020', 'F2021', 'F2022', 'F2023']\n",
      "73\n",
      "236\n",
      "(236, 73)"
     ]
    }
   ],
   "source": [
    "df=spark.read.csv('s3://rawtrabajo1/raw/TEMP_CHANGE/temp_change.csv',inferSchema=True,header=True, sep = ';')\n",
    "print(df.columns) #Mostramos los nombres de las columnas que contiene la tabla\n",
    "print(len(df.columns)) #Numero de columnas\n",
    "print(df.count()) #Cantidad de datos que contiene el dataframe\n",
    "print((df.count(),len(df.columns))) #Tamaño del dataframe (cantidad de columnas y filas)"
   ]
  },
  {
   "cell_type": "code",
   "execution_count": 8,
   "id": "5682f06e",
   "metadata": {},
   "outputs": [
    {
     "data": {
      "application/vnd.jupyter.widget-view+json": {
       "model_id": "",
       "version_major": 2,
       "version_minor": 0
      },
      "text/plain": [
       "FloatProgress(value=0.0, bar_style='info', description='Progress:', layout=Layout(height='25px', width='50%'),…"
      ]
     },
     "metadata": {},
     "output_type": "display_data"
    },
    {
     "name": "stdout",
     "output_type": "stream",
     "text": [
      "root\n",
      " |-- ObjectId: integer (nullable = true)\n",
      " |-- Country: string (nullable = true)\n",
      " |-- ISO2: string (nullable = true)\n",
      " |-- ISO3: string (nullable = true)\n",
      " |-- Indicator: string (nullable = true)\n",
      " |-- Unit: string (nullable = true)\n",
      " |-- Source: string (nullable = true)\n",
      " |-- CTS_Code: string (nullable = true)\n",
      " |-- CTS_Name: string (nullable = true)\n",
      " |-- CTS_Full_Descriptor: string (nullable = true)\n",
      " |-- F1961: double (nullable = true)\n",
      " |-- F1962: double (nullable = true)\n",
      " |-- F1963: double (nullable = true)\n",
      " |-- F1964: double (nullable = true)\n",
      " |-- F1965: double (nullable = true)\n",
      " |-- F1966: double (nullable = true)\n",
      " |-- F1967: double (nullable = true)\n",
      " |-- F1968: double (nullable = true)\n",
      " |-- F1969: double (nullable = true)\n",
      " |-- F1970: double (nullable = true)\n",
      " |-- F1971: double (nullable = true)\n",
      " |-- F1972: double (nullable = true)\n",
      " |-- F1973: double (nullable = true)\n",
      " |-- F1974: double (nullable = true)\n",
      " |-- F1975: double (nullable = true)\n",
      " |-- F1976: double (nullable = true)\n",
      " |-- F1977: double (nullable = true)\n",
      " |-- F1978: double (nullable = true)\n",
      " |-- F1979: double (nullable = true)\n",
      " |-- F1980: double (nullable = true)\n",
      " |-- F1981: double (nullable = true)\n",
      " |-- F1982: double (nullable = true)\n",
      " |-- F1983: double (nullable = true)\n",
      " |-- F1984: double (nullable = true)\n",
      " |-- F1985: double (nullable = true)\n",
      " |-- F1986: double (nullable = true)\n",
      " |-- F1987: double (nullable = true)\n",
      " |-- F1988: double (nullable = true)\n",
      " |-- F1989: double (nullable = true)\n",
      " |-- F1990: double (nullable = true)\n",
      " |-- F1991: double (nullable = true)\n",
      " |-- F1992: double (nullable = true)\n",
      " |-- F1993: double (nullable = true)\n",
      " |-- F1994: double (nullable = true)\n",
      " |-- F1995: double (nullable = true)\n",
      " |-- F1996: double (nullable = true)\n",
      " |-- F1997: double (nullable = true)\n",
      " |-- F1998: double (nullable = true)\n",
      " |-- F1999: double (nullable = true)\n",
      " |-- F2000: double (nullable = true)\n",
      " |-- F2001: double (nullable = true)\n",
      " |-- F2002: double (nullable = true)\n",
      " |-- F2003: double (nullable = true)\n",
      " |-- F2004: double (nullable = true)\n",
      " |-- F2005: double (nullable = true)\n",
      " |-- F2006: double (nullable = true)\n",
      " |-- F2007: double (nullable = true)\n",
      " |-- F2008: double (nullable = true)\n",
      " |-- F2009: double (nullable = true)\n",
      " |-- F2010: double (nullable = true)\n",
      " |-- F2011: double (nullable = true)\n",
      " |-- F2012: double (nullable = true)\n",
      " |-- F2013: double (nullable = true)\n",
      " |-- F2014: double (nullable = true)\n",
      " |-- F2015: double (nullable = true)\n",
      " |-- F2016: double (nullable = true)\n",
      " |-- F2017: double (nullable = true)\n",
      " |-- F2018: double (nullable = true)\n",
      " |-- F2019: double (nullable = true)\n",
      " |-- F2020: double (nullable = true)\n",
      " |-- F2021: double (nullable = true)\n",
      " |-- F2022: double (nullable = true)\n",
      " |-- F2023: double (nullable = true)"
     ]
    }
   ],
   "source": [
    "df.printSchema()"
   ]
  },
  {
   "cell_type": "code",
   "execution_count": 25,
   "id": "cefe102a",
   "metadata": {},
   "outputs": [
    {
     "data": {
      "application/vnd.jupyter.widget-view+json": {
       "model_id": "",
       "version_major": 2,
       "version_minor": 0
      },
      "text/plain": [
       "FloatProgress(value=0.0, bar_style='info', description='Progress:', layout=Layout(height='25px', width='50%'),…"
      ]
     },
     "metadata": {},
     "output_type": "display_data"
    },
    {
     "name": "stdout",
     "output_type": "stream",
     "text": [
      "[Row(ObjectId=1, Country='Afghanistan, Islamic Rep. of', ISO2='AF', ISO3='AFG', Indicator='Temperature change with respect to a baseline climatology, corresponding to the period 1951-1980', Unit='Degree Celsius', Source='Food and Agriculture Organization of the United Nations (FAO). 2022. FAOSTAT Climate Change, Climate Indicators, Temperature change. License: CC BY-NC-SA 3.0 IGO. Extracted from:\\xa0https://www.fao.org/faostat/en/#data/ET. Accessed on 2023-03-28.', CTS_Code='ECCS', CTS_Name='Surface Temperature Change', CTS_Full_Descriptor='Environment, Climate Change, Climate and Weather, Surface Temperature Change', F1961=-0.126, F1962=-0.173, F1963=0.844, F1964=-0.751, F1965=-0.22, F1966=0.239, F1967=-0.348, F1968=-0.398, F1969=-0.513, F1970=0.843, F1971=0.642, F1972=-1.095, F1973=0.264, F1974=-0.466, F1975=-0.442, F1976=-0.291, F1977=0.544, F1978=0.12, F1979=0.38, F1980=0.655, F1981=0.558, F1982=-0.286, F1983=0.24, F1984=0.252, F1985=0.397, F1986=-0.015, F1987=0.493, F1988=1.035, F1989=0.015, F1990=0.925, F1991=-0.051, F1992=-0.212, F1993=0.254, F1994=0.546, F1995=0.457, F1996=-0.093, F1997=0.46, F1998=0.664, F1999=1.271, F2000=1.064, F2001=1.377, F2002=1.457, F2003=0.71, F2004=1.482, F2005=0.513, F2006=1.838, F2007=0.794, F2008=0.808, F2009=0.948, F2010=1.664, F2011=1.455, F2012=0.271, F2013=1.345, F2014=0.521, F2015=1.204, F2016=1.612, F2017=1.642, F2018=1.624, F2019=0.991, F2020=0.587, F2021=1.475, F2022=2.154, F2023=1.956), Row(ObjectId=2, Country='Africa', ISO2=None, ISO3='AFRTMP', Indicator='Temperature change with respect to a baseline climatology, corresponding to the period 1951-1980', Unit='Degree Celsius', Source='Food and Agriculture Organization of the United Nations (FAO). 2022. FAOSTAT Climate Change, Climate Indicators, Temperature change. License: CC BY-NC-SA 3.0 IGO. Extracted from:\\xa0https://www.fao.org/faostat/en/#data/ET. Accessed on 2023-03-28.', CTS_Code='ECCS', CTS_Name='Surface Temperature Change', CTS_Full_Descriptor='Environment, Climate Change, Climate and Weather, Surface Temperature Change', F1961=-0.017, F1962=-0.036, F1963=0.063, F1964=-0.156, F1965=-0.201, F1966=0.138, F1967=-0.215, F1968=-0.221, F1969=0.355, F1970=0.22, F1971=-0.198, F1972=0.001, F1973=0.377, F1974=-0.232, F1975=-0.231, F1976=-0.252, F1977=0.24, F1978=0.09, F1979=0.445, F1980=0.376, F1981=0.109, F1982=0.222, F1983=0.418, F1984=0.348, F1985=0.307, F1986=0.295, F1987=0.685, F1988=0.618, F1989=0.0, F1990=0.568, F1991=0.375, F1992=0.092, F1993=0.373, F1994=0.393, F1995=0.549, F1996=0.515, F1997=0.581, F1998=0.949, F1999=0.622, F2000=0.458, F2001=0.66, F2002=0.886, F2003=1.002, F2004=0.814, F2005=1.081, F2006=0.925, F2007=0.793, F2008=0.724, F2009=0.96, F2010=1.501, F2011=0.913, F2012=0.76, F2013=1.021, F2014=1.013, F2015=1.19, F2016=1.392, F2017=1.18, F2018=1.178, F2019=1.297, F2020=1.2, F2021=1.396, F2022=0.996, F2023=1.485), Row(ObjectId=3, Country='Albania', ISO2='AL', ISO3='ALB', Indicator='Temperature change with respect to a baseline climatology, corresponding to the period 1951-1980', Unit='Degree Celsius', Source='Food and Agriculture Organization of the United Nations (FAO). 2022. FAOSTAT Climate Change, Climate Indicators, Temperature change. License: CC BY-NC-SA 3.0 IGO. Extracted from:\\xa0https://www.fao.org/faostat/en/#data/ET. Accessed on 2023-03-28.', CTS_Code='ECCS', CTS_Name='Surface Temperature Change', CTS_Full_Descriptor='Environment, Climate Change, Climate and Weather, Surface Temperature Change', F1961=0.635, F1962=0.342, F1963=0.086, F1964=-0.169, F1965=-0.39, F1966=0.553, F1967=-0.082, F1968=0.062, F1969=-0.036, F1970=-0.137, F1971=-0.205, F1972=-0.081, F1973=-0.294, F1974=-0.128, F1975=-0.203, F1976=-0.677, F1977=0.53, F1978=-0.825, F1979=0.191, F1980=-0.422, F1981=-0.346, F1982=0.207, F1983=-0.088, F1984=-0.238, F1985=-0.072, F1986=0.6, F1987=-0.078, F1988=0.397, F1989=-0.041, F1990=0.809, F1991=-0.28, F1992=0.106, F1993=0.113, F1994=1.36, F1995=-0.137, F1996=0.006, F1997=0.111, F1998=0.821, F1999=0.724, F2000=1.084, F2001=1.551, F2002=0.519, F2003=1.026, F2004=0.472, F2005=0.217, F2006=0.39, F2007=1.389, F2008=1.043, F2009=0.977, F2010=1.261, F2011=1.125, F2012=1.546, F2013=1.394, F2014=1.285, F2015=1.667, F2016=1.558, F2017=1.196, F2018=2.103, F2019=1.751, F2020=1.567, F2021=1.589, F2022=1.585, F2023=2.122), Row(ObjectId=4, Country='Algeria', ISO2='DZ', ISO3='DZA', Indicator='Temperature change with respect to a baseline climatology, corresponding to the period 1951-1980', Unit='Degree Celsius', Source='Food and Agriculture Organization of the United Nations (FAO). 2022. FAOSTAT Climate Change, Climate Indicators, Temperature change. License: CC BY-NC-SA 3.0 IGO. Extracted from:\\xa0https://www.fao.org/faostat/en/#data/ET. Accessed on 2023-03-28.', CTS_Code='ECCS', CTS_Name='Surface Temperature Change', CTS_Full_Descriptor='Environment, Climate Change, Climate and Weather, Surface Temperature Change', F1961=0.155, F1962=0.12, F1963=0.05, F1964=0.254, F1965=-0.111, F1966=0.405, F1967=-0.024, F1968=-0.065, F1969=0.247, F1970=0.08, F1971=-0.412, F1972=-0.36, F1973=-0.023, F1974=-0.506, F1975=-0.569, F1976=-0.799, F1977=0.55, F1978=0.06, F1979=0.706, F1980=0.266, F1981=0.249, F1982=0.421, F1983=0.617, F1984=0.054, F1985=0.552, F1986=0.347, F1987=1.05, F1988=1.402, F1989=0.453, F1990=1.332, F1991=0.102, F1992=-0.232, F1993=0.645, F1994=0.83, F1995=0.687, F1996=0.923, F1997=1.113, F1998=1.156, F1999=1.502, F2000=0.862, F2001=1.895, F2002=1.291, F2003=1.619, F2004=1.016, F2005=1.289, F2006=1.422, F2007=1.249, F2008=1.205, F2009=0.958, F2010=2.275, F2011=1.403, F2012=1.166, F2013=1.221, F2014=1.713, F2015=1.153, F2016=1.787, F2017=1.533, F2018=1.231, F2019=1.107, F2020=1.905, F2021=2.36, F2022=1.776, F2023=2.274), Row(ObjectId=5, Country='American Samoa', ISO2='AS', ISO3='ASM', Indicator='Temperature change with respect to a baseline climatology, corresponding to the period 1951-1980', Unit='Degree Celsius', Source='Food and Agriculture Organization of the United Nations (FAO). 2022. FAOSTAT Climate Change, Climate Indicators, Temperature change. License: CC BY-NC-SA 3.0 IGO. Extracted from:\\xa0https://www.fao.org/faostat/en/#data/ET. Accessed on 2023-03-28.', CTS_Code='ECCS', CTS_Name='Surface Temperature Change', CTS_Full_Descriptor='Environment, Climate Change, Climate and Weather, Surface Temperature Change', F1961=0.121, F1962=0.0, F1963=0.211, F1964=-0.089, F1965=-0.595, F1966=0.129, F1967=-0.387, F1968=-0.185, F1969=0.145, F1970=-0.034, F1971=-0.42, F1972=-0.056, F1973=0.33, F1974=-0.3, F1975=-0.11, F1976=-0.169, F1977=0.157, F1978=0.093, F1979=0.342, F1980=0.344, F1981=0.165, F1982=0.288, F1983=0.309, F1984=0.257, F1985=0.235, F1986=0.375, F1987=0.333, F1988=0.51, F1989=0.167, F1990=0.52, F1991=0.677, F1992=0.335, F1993=-0.092, F1994=0.141, F1995=0.732, F1996=0.787, F1997=None, F1998=None, F1999=0.24, F2000=0.604, F2001=0.882, F2002=1.13, F2003=0.712, F2004=0.244, F2005=0.878, F2006=0.48, F2007=0.928, F2008=0.498, F2009=None, F2010=1.131, F2011=0.681, F2012=0.72, F2013=1.012, F2014=0.84, F2015=0.679, F2016=1.209, F2017=1.105, F2018=0.859, F2019=1.209, F2020=1.101, F2021=0.938, F2022=0.925, F2023=0.951)]"
     ]
    }
   ],
   "source": [
    "df.head(5)"
   ]
  },
  {
   "cell_type": "code",
   "execution_count": 12,
   "id": "80c8b667",
   "metadata": {},
   "outputs": [
    {
     "data": {
      "application/vnd.jupyter.widget-view+json": {
       "model_id": "",
       "version_major": 2,
       "version_minor": 0
      },
      "text/plain": [
       "FloatProgress(value=0.0, bar_style='info', description='Progress:', layout=Layout(height='25px', width='50%'),…"
      ]
     },
     "metadata": {},
     "output_type": "display_data"
    },
    {
     "name": "stdout",
     "output_type": "stream",
     "text": [
      "+--------------------+--------------------+----+------+-----+-----+-----+-----+-----+\n",
      "|             Country|           Indicator|ISO2|  ISO3|F2019|F2020|F2021|F2022|F2023|\n",
      "+--------------------+--------------------+----+------+-----+-----+-----+-----+-----+\n",
      "|Afghanistan, Isla...|Temperature chang...|  AF|   AFG|0.991|0.587|1.475|2.154|1.956|\n",
      "|              Africa|Temperature chang...|null|AFRTMP|1.297|  1.2|1.396|0.996|1.485|\n",
      "|             Albania|Temperature chang...|  AL|   ALB|1.751|1.567|1.589|1.585|2.122|\n",
      "|             Algeria|Temperature chang...|  DZ|   DZA|1.107|1.905| 2.36|1.776|2.274|\n",
      "|      American Samoa|Temperature chang...|  AS|   ASM|1.209|1.101|0.938|0.925|0.951|\n",
      "+--------------------+--------------------+----+------+-----+-----+-----+-----+-----+\n",
      "only showing top 5 rows"
     ]
    }
   ],
   "source": [
    "df.select('Country','Indicator', 'ISO2', 'ISO3', 'F2019','F2020', 'F2021', 'F2022', 'F2023').show(5)"
   ]
  },
  {
   "cell_type": "code",
   "execution_count": 21,
   "id": "b44f9b0a",
   "metadata": {},
   "outputs": [
    {
     "data": {
      "application/vnd.jupyter.widget-view+json": {
       "model_id": "",
       "version_major": 2,
       "version_minor": 0
      },
      "text/plain": [
       "FloatProgress(value=0.0, bar_style='info', description='Progress:', layout=Layout(height='25px', width='50%'),…"
      ]
     },
     "metadata": {},
     "output_type": "display_data"
    },
    {
     "name": "stdout",
     "output_type": "stream",
     "text": [
      "+-------+------------------+------------------+------------------+------------------+------------------+\n",
      "|summary|             F2019|             F2020|             F2021|             F2022|             F2023|\n",
      "+-------+------------------+------------------+------------------+------------------+------------------+\n",
      "|  count|               222|               220|               223|               223|               221|\n",
      "|   mean| 1.429130630630631| 1.523422727272728|1.3098340807174886|  1.34895067264574|1.6473303167420823|\n",
      "| stddev|0.4705686615270562|0.6246334438749978|0.5195694113857042|0.6784408943345038|0.6001559755099951|\n",
      "|    min|             0.121|             0.059|            -0.569|            -0.698|             0.215|\n",
      "|    max|             2.871|             3.669|             3.012|             3.512|             3.578|\n",
      "+-------+------------------+------------------+------------------+------------------+------------------+"
     ]
    }
   ],
   "source": [
    "df.describe(['F2019','F2020', 'F2021', 'F2022', 'F2023']).show()"
   ]
  },
  {
   "cell_type": "code",
   "execution_count": 22,
   "id": "a8604e60",
   "metadata": {},
   "outputs": [
    {
     "data": {
      "application/vnd.jupyter.widget-view+json": {
       "model_id": "",
       "version_major": 2,
       "version_minor": 0
      },
      "text/plain": [
       "FloatProgress(value=0.0, bar_style='info', description='Progress:', layout=Layout(height='25px', width='50%'),…"
      ]
     },
     "metadata": {},
     "output_type": "display_data"
    },
    {
     "name": "stdout",
     "output_type": "stream",
     "text": [
      "+--------+--------------------+----+----+-----+-----+-----+-----+-----+\n",
      "| Country|           Indicator|ISO2|ISO3|F2019|F2020|F2021|F2022|F2023|\n",
      "+--------+--------------------+----+----+-----+-----+-----+-----+-----+\n",
      "|Colombia|Temperature chang...|  CO| COL|1.278|1.338|0.824|0.671|1.265|\n",
      "+--------+--------------------+----+----+-----+-----+-----+-----+-----+"
     ]
    }
   ],
   "source": [
    "#filter country \n",
    "df['Country','Indicator', 'ISO2', 'ISO3', 'F2019','F2020', 'F2021', 'F2022', 'F2023'].filter(df['Country']=='Colombia').show()"
   ]
  },
  {
   "cell_type": "code",
   "execution_count": 17,
   "id": "07028944",
   "metadata": {},
   "outputs": [
    {
     "data": {
      "application/vnd.jupyter.widget-view+json": {
       "model_id": "",
       "version_major": 2,
       "version_minor": 0
      },
      "text/plain": [
       "FloatProgress(value=0.0, bar_style='info', description='Progress:', layout=Layout(height='25px', width='50%'),…"
      ]
     },
     "metadata": {},
     "output_type": "display_data"
    },
    {
     "name": "stdout",
     "output_type": "stream",
     "text": [
      "+--------+--------------------+----+----+-----+-----+-----+-----+-----+\n",
      "| Country|           Indicator|ISO2|ISO3|F2019|F2020|F2021|F2022|F2023|\n",
      "+--------+--------------------+----+----+-----+-----+-----+-----+-----+\n",
      "|Colombia|Temperature chang...|  CO| COL|1.278|1.338|0.824|0.671|1.265|\n",
      "+--------+--------------------+----+----+-----+-----+-----+-----+-----+"
     ]
    }
   ],
   "source": [
    "#filter the records \n",
    "df.filter(df['Country']=='Colombia').select('Country','Indicator', 'ISO2', 'ISO3', 'F2019','F2020', 'F2021', 'F2022', 'F2023').show()"
   ]
  },
  {
   "cell_type": "code",
   "execution_count": 26,
   "id": "22f8fd8c",
   "metadata": {},
   "outputs": [
    {
     "data": {
      "application/vnd.jupyter.widget-view+json": {
       "model_id": "",
       "version_major": 2,
       "version_minor": 0
      },
      "text/plain": [
       "FloatProgress(value=0.0, bar_style='info', description='Progress:', layout=Layout(height='25px', width='50%'),…"
      ]
     },
     "metadata": {},
     "output_type": "display_data"
    },
    {
     "name": "stdout",
     "output_type": "stream",
     "text": [
      "+--------------------+--------------------+-----+-----+-----+-----+-----+\n",
      "|             Country|           Indicator|F2019|F2020|F2021|F2022|F2023|\n",
      "+--------------------+--------------------+-----+-----+-----+-----+-----+\n",
      "|Afghanistan, Isla...|Temperature chang...|0.991|0.587|1.475|2.154|1.956|\n",
      "|             Albania|Temperature chang...|1.751|1.567|1.589|1.585|2.122|\n",
      "|             Algeria|Temperature chang...|1.107|1.905| 2.36|1.776|2.274|\n",
      "|            Americas|Temperature chang...|1.229|1.303|1.558|1.075|1.772|\n",
      "|Andorra, Principa...|Temperature chang...|1.884| 2.48| 1.45|3.155|2.786|\n",
      "|    Armenia, Rep. of|Temperature chang...|1.864|1.954|2.183|1.845|2.258|\n",
      "|                Asia|Temperature chang...|1.388|1.506| 1.54|1.723|1.778|\n",
      "|             Austria|Temperature chang...|2.375|2.322| 1.41|2.538|2.572|\n",
      "| Azerbaijan, Rep. of|Temperature chang...|1.878|1.889|1.958|2.029| 2.16|\n",
      "|        Bahamas, The|Temperature chang...|  1.6|1.715|0.714|1.304|1.688|\n",
      "| Bahrain, Kingdom of|Temperature chang...|2.127|1.989|2.421|1.971|2.261|\n",
      "|    Belarus, Rep. of|Temperature chang...|2.668|3.489|1.698|1.893|2.713|\n",
      "|             Belgium|Temperature chang...|2.055|2.542|1.176|2.776|2.409|\n",
      "|              Belize|Temperature chang...|1.435|1.582|1.201|0.982|1.813|\n",
      "|              Bhutan|Temperature chang...|1.136|1.035|1.648|1.456|1.751|\n",
      "|             Bolivia|Temperature chang...|0.985|1.276|0.731|0.667|2.202|\n",
      "|Bosnia and Herzeg...|Temperature chang...| 2.04|1.928|1.639|2.152|2.551|\n",
      "|              Brazil|Temperature chang...| 1.54|1.452|1.149|0.997|1.648|\n",
      "|            Bulgaria|Temperature chang...|1.991|1.938|1.511| 1.79|2.614|\n",
      "|          Cabo Verde|Temperature chang...|1.085| null|1.118|1.206|2.165|\n",
      "+--------------------+--------------------+-----+-----+-----+-----+-----+\n",
      "only showing top 20 rows"
     ]
    }
   ],
   "source": [
    "df['Country','Indicator', 'F2019','F2020', 'F2021', 'F2022', 'F2023'].filter(df['F2023'] >1.64).show()\n",
    "#registros con diferencia en cambios de temperatura para el año 2023 mayor al promedio"
   ]
  },
  {
   "cell_type": "code",
   "execution_count": 27,
   "id": "4c029b2f",
   "metadata": {},
   "outputs": [
    {
     "data": {
      "application/vnd.jupyter.widget-view+json": {
       "model_id": "",
       "version_major": 2,
       "version_minor": 0
      },
      "text/plain": [
       "FloatProgress(value=0.0, bar_style='info', description='Progress:', layout=Layout(height='25px', width='50%'),…"
      ]
     },
     "metadata": {},
     "output_type": "display_data"
    },
    {
     "name": "stdout",
     "output_type": "stream",
     "text": [
      "+--------------------+\n",
      "|             Country|\n",
      "+--------------------+\n",
      "|Iran, Islamic Rep...|\n",
      "| Uzbekistan, Rep. of|\n",
      "|              Guyana|\n",
      "|          Czech Rep.|\n",
      "| San Marino, Rep. of|\n",
      "|        Saint Helena|\n",
      "|Central African Rep.|\n",
      "|           Argentina|\n",
      "|              Angola|\n",
      "|    Netherlands, The|\n",
      "|             Albania|\n",
      "|           Nicaragua|\n",
      "|                Peru|\n",
      "|             Somalia|\n",
      "|          Martinique|\n",
      "|            Suriname|\n",
      "|              Norway|\n",
      "|Ethiopia, The Fed...|\n",
      "|          Guadeloupe|\n",
      "|Micronesia, Feder...|\n",
      "+--------------------+\n",
      "only showing top 20 rows"
     ]
    }
   ],
   "source": [
    "#los diferentes paises\n",
    "df.select('Country').distinct().show()"
   ]
  },
  {
   "cell_type": "code",
   "execution_count": 28,
   "id": "d9547877",
   "metadata": {},
   "outputs": [
    {
     "data": {
      "application/vnd.jupyter.widget-view+json": {
       "model_id": "",
       "version_major": 2,
       "version_minor": 0
      },
      "text/plain": [
       "FloatProgress(value=0.0, bar_style='info', description='Progress:', layout=Layout(height='25px', width='50%'),…"
      ]
     },
     "metadata": {},
     "output_type": "display_data"
    },
    {
     "name": "stdout",
     "output_type": "stream",
     "text": [
      "236"
     ]
    }
   ],
   "source": [
    "#cantidad de paises distintos\n",
    "df.select('Country').distinct().count()"
   ]
  },
  {
   "cell_type": "markdown",
   "id": "7fa7750b",
   "metadata": {},
   "source": [
    "Los datos con los que contamos en la tabla de cambio de temperatura ya vienen agrupados, por lo que tenemos un solo indicador y todos los datos por lo que no tiene sentido usar la funcion df.groupBy()\n"
   ]
  },
  {
   "cell_type": "code",
   "execution_count": 40,
   "id": "6f951f9c",
   "metadata": {},
   "outputs": [
    {
     "data": {
      "application/vnd.jupyter.widget-view+json": {
       "model_id": "",
       "version_major": 2,
       "version_minor": 0
      },
      "text/plain": [
       "FloatProgress(value=0.0, bar_style='info', description='Progress:', layout=Layout(height='25px', width='50%'),…"
      ]
     },
     "metadata": {},
     "output_type": "display_data"
    },
    {
     "name": "stdout",
     "output_type": "stream",
     "text": [
      "+---------------+\n",
      "|change_temp    |\n",
      "+---------------+\n",
      "|Diferencia alta|\n",
      "|Diferencia baja|\n",
      "|Diferencia alta|\n",
      "|Diferencia alta|\n",
      "|Diferencia baja|\n",
      "|Diferencia alta|\n",
      "|Diferencia alta|\n",
      "|Diferencia baja|\n",
      "|Diferencia baja|\n",
      "|Diferencia baja|\n",
      "+---------------+\n",
      "only showing top 10 rows"
     ]
    }
   ],
   "source": [
    "from pyspark.sql.functions import udf\n",
    "#Cambio de temperatura\n",
    "def change_temp(F2023):\n",
    "    try:\n",
    "        F2023 = float(F2023) \n",
    "        if F2023 < 1.64:\n",
    "            return 'Diferencia baja'\n",
    "        else:\n",
    "            return 'Diferencia alta'\n",
    "    except ValueError:\n",
    "        return 'Invalid value'  \n",
    "\n",
    "change_udf = udf(change_temp, StringType())\n",
    "df = df.withColumn('change_temp', cant_udf(df['F2023']))\n",
    "df.select('change_temp').show(10, False)"
   ]
  },
  {
   "cell_type": "markdown",
   "id": "655cbb24",
   "metadata": {},
   "source": [
    "ya con esta nueva columna podemos generar agrupaciones:"
   ]
  },
  {
   "cell_type": "code",
   "execution_count": 47,
   "id": "1b409166",
   "metadata": {},
   "outputs": [
    {
     "data": {
      "application/vnd.jupyter.widget-view+json": {
       "model_id": "",
       "version_major": 2,
       "version_minor": 0
      },
      "text/plain": [
       "FloatProgress(value=0.0, bar_style='info', description='Progress:', layout=Layout(height='25px', width='50%'),…"
      ]
     },
     "metadata": {},
     "output_type": "display_data"
    },
    {
     "name": "stdout",
     "output_type": "stream",
     "text": [
      "+---------------+------------------+\n",
      "|change_temp    |sum(F2023)        |\n",
      "+---------------+------------------+\n",
      "|Diferencia alta|232.69            |\n",
      "|Diferencia baja|131.36999999999998|\n",
      "+---------------+------------------+"
     ]
    }
   ],
   "source": [
    "df_sin_null = df.filter(df[\"F2023\"].isNotNull())\n",
    "df_sin_null.groupBy('change_temp').agg({'F2023':'sum'}).show(5,False)\n"
   ]
  },
  {
   "cell_type": "code",
   "execution_count": 49,
   "id": "549f6c17",
   "metadata": {
    "scrolled": true
   },
   "outputs": [
    {
     "data": {
      "application/vnd.jupyter.widget-view+json": {
       "model_id": "",
       "version_major": 2,
       "version_minor": 0
      },
      "text/plain": [
       "FloatProgress(value=0.0, bar_style='info', description='Progress:', layout=Layout(height='25px', width='50%'),…"
      ]
     },
     "metadata": {},
     "output_type": "display_data"
    },
    {
     "name": "stdout",
     "output_type": "stream",
     "text": [
      "+---------------+------------------+\n",
      "|change_temp    |avg(F2023)        |\n",
      "+---------------+------------------+\n",
      "|Diferencia alta|2.154537037037037 |\n",
      "|Diferencia baja|1.1625663716814156|\n",
      "+---------------+------------------+"
     ]
    }
   ],
   "source": [
    "df_sin_null.groupBy('change_temp').agg({'F2023':'avg'}).show(5,False)\n",
    "#promedio de la diferencia del cambio de temperatura del 2023 respecto al 2022"
   ]
  },
  {
   "cell_type": "code",
   "execution_count": 63,
   "id": "99758092",
   "metadata": {},
   "outputs": [
    {
     "data": {
      "application/vnd.jupyter.widget-view+json": {
       "model_id": "",
       "version_major": 2,
       "version_minor": 0
      },
      "text/plain": [
       "FloatProgress(value=0.0, bar_style='info', description='Progress:', layout=Layout(height='25px', width='50%'),…"
      ]
     },
     "metadata": {},
     "output_type": "display_data"
    },
    {
     "name": "stdout",
     "output_type": "stream",
     "text": [
      "+---------------+----------+\n",
      "|change_temp    |min(F2023)|\n",
      "+---------------+----------+\n",
      "|Diferencia alta|1.646     |\n",
      "|Diferencia baja|0.215     |\n",
      "+---------------+----------+\n",
      "\n",
      "None\n",
      "+---------------+----------+\n",
      "|change_temp    |max(F2023)|\n",
      "+---------------+----------+\n",
      "|Diferencia alta|3.578     |\n",
      "|Diferencia baja|1.639     |\n",
      "+---------------+----------+\n",
      "\n",
      "None"
     ]
    }
   ],
   "source": [
    "\n",
    "print(df_sin_null.groupBy('change_temp').agg({'F2023':'min'}).show(5,False))\n",
    "print(df_sin_null.groupBy('change_temp').agg({'F2023':'max'}).show(5,False))\n"
   ]
  },
  {
   "cell_type": "code",
   "execution_count": 64,
   "id": "6309bb16",
   "metadata": {},
   "outputs": [
    {
     "data": {
      "application/vnd.jupyter.widget-view+json": {
       "model_id": "",
       "version_major": 2,
       "version_minor": 0
      },
      "text/plain": [
       "FloatProgress(value=0.0, bar_style='info', description='Progress:', layout=Layout(height='25px', width='50%'),…"
      ]
     },
     "metadata": {},
     "output_type": "display_data"
    },
    {
     "name": "stdout",
     "output_type": "stream",
     "text": [
      "+--------+----------------------------+----+------+------------------------------------------------------------------------------------------------+--------------+---------------------------------------------------------------------------------------------------------------------------------------------------------------------------------------------------------------------------------------------------+--------+--------------------------+----------------------------------------------------------------------------+------+------+------+------+------+------+------+------+------+------+------+------+------+------+------+------+------+------+------+------+------+------+------+------+------+------+------+-----+------+-----+------+------+------+------+------+------+------+------+------+------+------+-----+------+-----+-----+-----+-----+-----+-----+-----+-----+------+-----+-----+-----+-----+-----+-----+-----+-----+------+-----+-----+---------------+---------------+\n",
      "|ObjectId|Country                     |ISO2|ISO3  |Indicator                                                                                       |Unit          |Source                                                                                                                                                                                                                                             |CTS_Code|CTS_Name                  |CTS_Full_Descriptor                                                         |F1961 |F1962 |F1963 |F1964 |F1965 |F1966 |F1967 |F1968 |F1969 |F1970 |F1971 |F1972 |F1973 |F1974 |F1975 |F1976 |F1977 |F1978 |F1979 |F1980 |F1981 |F1982 |F1983 |F1984 |F1985 |F1986 |F1987 |F1988|F1989 |F1990|F1991 |F1992 |F1993 |F1994 |F1995 |F1996 |F1997 |F1998 |F1999 |F2000 |F2001 |F2002|F2003 |F2004|F2005|F2006|F2007|F2008|F2009|F2010|F2011|F2012 |F2013|F2014|F2015|F2016|F2017|F2018|F2019|F2020|F2021 |F2022|F2023|change_temp    |change_temp2   |\n",
      "+--------+----------------------------+----+------+------------------------------------------------------------------------------------------------+--------------+---------------------------------------------------------------------------------------------------------------------------------------------------------------------------------------------------------------------------------------------------+--------+--------------------------+----------------------------------------------------------------------------+------+------+------+------+------+------+------+------+------+------+------+------+------+------+------+------+------+------+------+------+------+------+------+------+------+------+------+-----+------+-----+------+------+------+------+------+------+------+------+------+------+------+-----+------+-----+-----+-----+-----+-----+-----+-----+-----+------+-----+-----+-----+-----+-----+-----+-----+-----+------+-----+-----+---------------+---------------+\n",
      "|1       |Afghanistan, Islamic Rep. of|AF  |AFG   |Temperature change with respect to a baseline climatology, corresponding to the period 1951-1980|Degree Celsius|Food and Agriculture Organization of the United Nations (FAO). 2022. FAOSTAT Climate Change, Climate Indicators, Temperature change. License: CC BY-NC-SA 3.0 IGO. Extracted from: https://www.fao.org/faostat/en/#data/ET. Accessed on 2023-03-28.|ECCS    |Surface Temperature Change|Environment, Climate Change, Climate and Weather, Surface Temperature Change|-0.126|-0.173|0.844 |-0.751|-0.22 |0.239 |-0.348|-0.398|-0.513|0.843 |0.642 |-1.095|0.264 |-0.466|-0.442|-0.291|0.544 |0.12  |0.38  |0.655 |0.558 |-0.286|0.24  |0.252 |0.397 |-0.015|0.493 |1.035|0.015 |0.925|-0.051|-0.212|0.254 |0.546 |0.457 |-0.093|0.46  |0.664 |1.271 |1.064 |1.377 |1.457|0.71  |1.482|0.513|1.838|0.794|0.808|0.948|1.664|1.455|0.271 |1.345|0.521|1.204|1.612|1.642|1.624|0.991|0.587|1.475 |2.154|1.956|Diferencia alta|Diferencia alta|\n",
      "|2       |Africa                      |null|AFRTMP|Temperature change with respect to a baseline climatology, corresponding to the period 1951-1980|Degree Celsius|Food and Agriculture Organization of the United Nations (FAO). 2022. FAOSTAT Climate Change, Climate Indicators, Temperature change. License: CC BY-NC-SA 3.0 IGO. Extracted from: https://www.fao.org/faostat/en/#data/ET. Accessed on 2023-03-28.|ECCS    |Surface Temperature Change|Environment, Climate Change, Climate and Weather, Surface Temperature Change|-0.017|-0.036|0.063 |-0.156|-0.201|0.138 |-0.215|-0.221|0.355 |0.22  |-0.198|0.001 |0.377 |-0.232|-0.231|-0.252|0.24  |0.09  |0.445 |0.376 |0.109 |0.222 |0.418 |0.348 |0.307 |0.295 |0.685 |0.618|0.0   |0.568|0.375 |0.092 |0.373 |0.393 |0.549 |0.515 |0.581 |0.949 |0.622 |0.458 |0.66  |0.886|1.002 |0.814|1.081|0.925|0.793|0.724|0.96 |1.501|0.913|0.76  |1.021|1.013|1.19 |1.392|1.18 |1.178|1.297|1.2  |1.396 |0.996|1.485|Diferencia baja|Diferencia baja|\n",
      "|3       |Albania                     |AL  |ALB   |Temperature change with respect to a baseline climatology, corresponding to the period 1951-1980|Degree Celsius|Food and Agriculture Organization of the United Nations (FAO). 2022. FAOSTAT Climate Change, Climate Indicators, Temperature change. License: CC BY-NC-SA 3.0 IGO. Extracted from: https://www.fao.org/faostat/en/#data/ET. Accessed on 2023-03-28.|ECCS    |Surface Temperature Change|Environment, Climate Change, Climate and Weather, Surface Temperature Change|0.635 |0.342 |0.086 |-0.169|-0.39 |0.553 |-0.082|0.062 |-0.036|-0.137|-0.205|-0.081|-0.294|-0.128|-0.203|-0.677|0.53  |-0.825|0.191 |-0.422|-0.346|0.207 |-0.088|-0.238|-0.072|0.6   |-0.078|0.397|-0.041|0.809|-0.28 |0.106 |0.113 |1.36  |-0.137|0.006 |0.111 |0.821 |0.724 |1.084 |1.551 |0.519|1.026 |0.472|0.217|0.39 |1.389|1.043|0.977|1.261|1.125|1.546 |1.394|1.285|1.667|1.558|1.196|2.103|1.751|1.567|1.589 |1.585|2.122|Diferencia alta|Diferencia alta|\n",
      "|4       |Algeria                     |DZ  |DZA   |Temperature change with respect to a baseline climatology, corresponding to the period 1951-1980|Degree Celsius|Food and Agriculture Organization of the United Nations (FAO). 2022. FAOSTAT Climate Change, Climate Indicators, Temperature change. License: CC BY-NC-SA 3.0 IGO. Extracted from: https://www.fao.org/faostat/en/#data/ET. Accessed on 2023-03-28.|ECCS    |Surface Temperature Change|Environment, Climate Change, Climate and Weather, Surface Temperature Change|0.155 |0.12  |0.05  |0.254 |-0.111|0.405 |-0.024|-0.065|0.247 |0.08  |-0.412|-0.36 |-0.023|-0.506|-0.569|-0.799|0.55  |0.06  |0.706 |0.266 |0.249 |0.421 |0.617 |0.054 |0.552 |0.347 |1.05  |1.402|0.453 |1.332|0.102 |-0.232|0.645 |0.83  |0.687 |0.923 |1.113 |1.156 |1.502 |0.862 |1.895 |1.291|1.619 |1.016|1.289|1.422|1.249|1.205|0.958|2.275|1.403|1.166 |1.221|1.713|1.153|1.787|1.533|1.231|1.107|1.905|2.36  |1.776|2.274|Diferencia alta|Diferencia alta|\n",
      "|5       |American Samoa              |AS  |ASM   |Temperature change with respect to a baseline climatology, corresponding to the period 1951-1980|Degree Celsius|Food and Agriculture Organization of the United Nations (FAO). 2022. FAOSTAT Climate Change, Climate Indicators, Temperature change. License: CC BY-NC-SA 3.0 IGO. Extracted from: https://www.fao.org/faostat/en/#data/ET. Accessed on 2023-03-28.|ECCS    |Surface Temperature Change|Environment, Climate Change, Climate and Weather, Surface Temperature Change|0.121 |0.0   |0.211 |-0.089|-0.595|0.129 |-0.387|-0.185|0.145 |-0.034|-0.42 |-0.056|0.33  |-0.3  |-0.11 |-0.169|0.157 |0.093 |0.342 |0.344 |0.165 |0.288 |0.309 |0.257 |0.235 |0.375 |0.333 |0.51 |0.167 |0.52 |0.677 |0.335 |-0.092|0.141 |0.732 |0.787 |null  |null  |0.24  |0.604 |0.882 |1.13 |0.712 |0.244|0.878|0.48 |0.928|0.498|null |1.131|0.681|0.72  |1.012|0.84 |0.679|1.209|1.105|0.859|1.209|1.101|0.938 |0.925|0.951|Diferencia baja|Diferencia baja|\n",
      "|6       |Americas                    |null|AMETMP|Temperature change with respect to a baseline climatology, corresponding to the period 1951-1980|Degree Celsius|Food and Agriculture Organization of the United Nations (FAO). 2022. FAOSTAT Climate Change, Climate Indicators, Temperature change. License: CC BY-NC-SA 3.0 IGO. Extracted from: https://www.fao.org/faostat/en/#data/ET. Accessed on 2023-03-28.|ECCS    |Surface Temperature Change|Environment, Climate Change, Climate and Weather, Surface Temperature Change|0.053 |-0.084|0.264 |-0.244|-0.3  |-0.104|-0.113|-0.003|0.098 |0.156 |-0.239|-0.454|0.164 |-0.283|-0.123|-0.136|0.505 |-0.072|-0.072|0.506 |0.697 |-0.093|0.451 |0.072 |-0.009|0.287 |0.836 |0.56 |0.174 |0.367|0.419 |0.252 |0.268 |0.503 |0.711 |0.186 |0.567 |1.417 |0.797 |0.725 |0.851 |0.777|0.981 |0.679|1.039|1.223|0.923|0.571|0.681|1.313|0.865|1.348 |0.846|0.724|1.352|1.766|1.353|0.949|1.229|1.303|1.558 |1.075|1.772|Diferencia alta|Diferencia alta|\n",
      "|7       |Andorra, Principality of    |AD  |AND   |Temperature change with respect to a baseline climatology, corresponding to the period 1951-1980|Degree Celsius|Food and Agriculture Organization of the United Nations (FAO). 2022. FAOSTAT Climate Change, Climate Indicators, Temperature change. License: CC BY-NC-SA 3.0 IGO. Extracted from: https://www.fao.org/faostat/en/#data/ET. Accessed on 2023-03-28.|ECCS    |Surface Temperature Change|Environment, Climate Change, Climate and Weather, Surface Temperature Change|0.756 |0.12  |-0.744|0.315 |-0.489|0.414 |0.636 |0.005 |-0.158|0.106 |-0.333|-0.479|-0.003|-0.383|0.223 |-0.062|-0.109|-0.179|0.034 |-0.215|0.145 |1.02  |0.82  |-0.199|0.012 |0.35  |0.371 |0.852|1.147 |1.712|0.192 |0.349 |0.146 |1.478 |1.267 |0.563 |1.761 |0.999 |1.037 |1.036 |1.486 |0.843|1.966 |0.944|0.865|1.495|1.018|0.932|1.4  |0.459|1.666|1.252 |0.815|1.917|1.631|1.918|1.854|1.835|1.884|2.48 |1.45  |3.155|2.786|Diferencia alta|Diferencia alta|\n",
      "|8       |Angola                      |AO  |AGO   |Temperature change with respect to a baseline climatology, corresponding to the period 1951-1980|Degree Celsius|Food and Agriculture Organization of the United Nations (FAO). 2022. FAOSTAT Climate Change, Climate Indicators, Temperature change. License: CC BY-NC-SA 3.0 IGO. Extracted from: https://www.fao.org/faostat/en/#data/ET. Accessed on 2023-03-28.|ECCS    |Surface Temperature Change|Environment, Climate Change, Climate and Weather, Surface Temperature Change|0.06  |-0.132|-0.171|-0.21 |-0.173|0.198 |-0.086|-0.202|0.173 |0.246 |-0.075|-0.012|0.45  |-0.201|-0.075|-0.339|0.221 |0.07  |0.324 |0.31  |-0.064|0.137 |0.479 |0.642 |0.696 |0.173 |0.711 |0.581|0.001 |0.693|0.306 |0.456 |0.248 |0.322 |0.757 |0.383 |0.235 |1.129 |0.392 |0.205 |0.29  |0.717|0.912 |0.348|1.085|0.455|0.777|0.42 |0.636|1.167|0.844|0.558 |1.005|0.792|1.326|1.692|0.943|1.306|1.785|1.108|1.401 |1.136|1.175|Diferencia baja|Diferencia baja|\n",
      "|9       |Anguilla                    |AI  |AIA   |Temperature change with respect to a baseline climatology, corresponding to the period 1951-1980|Degree Celsius|Food and Agriculture Organization of the United Nations (FAO). 2022. FAOSTAT Climate Change, Climate Indicators, Temperature change. License: CC BY-NC-SA 3.0 IGO. Extracted from: https://www.fao.org/faostat/en/#data/ET. Accessed on 2023-03-28.|ECCS    |Surface Temperature Change|Environment, Climate Change, Climate and Weather, Surface Temperature Change|0.058 |-0.034|0.242 |0.051 |-0.317|0.126 |-0.136|-0.255|0.309 |0.209 |-0.185|-0.073|0.31  |-0.229|-0.254|-0.284|0.287 |0.36  |0.321 |0.726 |0.748 |0.41  |0.701 |0.11  |0.111 |0.186 |0.803 |0.561|0.027 |0.477|0.575 |0.512 |0.635 |0.607 |0.775 |0.52  |0.734 |1.248 |0.66  |0.499 |null  |0.699|0.977 |0.609|1.007|0.75 |0.887|0.3  |0.521|1.294|0.581|0.684 |0.702|0.708|1.002|1.174|0.925|0.788|0.879|1.179|0.879 |0.787|1.116|Diferencia baja|Diferencia baja|\n",
      "|10      |Antarctica                  |null|ATATMP|Temperature change with respect to a baseline climatology, corresponding to the period 1951-1980|Degree Celsius|Food and Agriculture Organization of the United Nations (FAO). 2022. FAOSTAT Climate Change, Climate Indicators, Temperature change. License: CC BY-NC-SA 3.0 IGO. Extracted from: https://www.fao.org/faostat/en/#data/ET. Accessed on 2023-03-28.|ECCS    |Surface Temperature Change|Environment, Climate Change, Climate and Weather, Surface Temperature Change|0.28  |-0.228|0.135 |-0.366|-0.099|-0.24 |0.133 |-0.087|-0.255|-0.133|0.281 |0.621 |0.011 |0.169 |0.177 |-0.634|0.25  |-0.118|-0.234|0.565 |0.706 |-0.031|-0.693|0.124 |0.177 |-0.271|-0.701|0.952|-0.441|0.285|0.674 |0.33  |-0.722|-0.069|-0.242|0.806 |-0.513|-0.398|-0.551|-0.793|-0.068|1.327|-0.455|0.154|0.858|-0.03|0.682|0.567|1.32 |0.849|0.771|-0.204|1.744|0.57 |-0.02|0.234|0.788|1.451|0.64 |0.798|-0.569|0.48 |0.48 |Diferencia baja|Diferencia baja|\n",
      "+--------+----------------------------+----+------+------------------------------------------------------------------------------------------------+--------------+---------------------------------------------------------------------------------------------------------------------------------------------------------------------------------------------------------------------------------------------------+--------+--------------------------+----------------------------------------------------------------------------+------+------+------+------+------+------+------+------+------+------+------+------+------+------+------+------+------+------+------+------+------+------+------+------+------+------+------+-----+------+-----+------+------+------+------+------+------+------+------+------+------+------+-----+------+-----+-----+-----+-----+-----+-----+-----+-----+------+-----+-----+-----+-----+-----+-----+-----+-----+------+-----+-----+---------------+---------------+\n",
      "only showing top 10 rows"
     ]
    }
   ],
   "source": [
    "#Agregar la clasificación por medio de lambda\n",
    "change_temp_udf = udf(lambda F2023: \"Diferencia baja\" if F2023 <= 1.646 else \"Diferencia alta\", StringType())\n",
    "\n",
    "df.withColumn(\"change_temp2\", change_temp_udf(df.F2023)).show(10,False)"
   ]
  },
  {
   "cell_type": "code",
   "execution_count": 66,
   "id": "4122cfa3",
   "metadata": {},
   "outputs": [
    {
     "data": {
      "application/vnd.jupyter.widget-view+json": {
       "model_id": "",
       "version_major": 2,
       "version_minor": 0
      },
      "text/plain": [
       "FloatProgress(value=0.0, bar_style='info', description='Progress:', layout=Layout(height='25px', width='50%'),…"
      ]
     },
     "metadata": {},
     "output_type": "display_data"
    },
    {
     "name": "stdout",
     "output_type": "stream",
     "text": [
      "221\n",
      "221"
     ]
    }
   ],
   "source": [
    "# eliminar duplicados\n",
    "print(df_sin_null.count())\n",
    "df_sin_null=df_sin_null.dropDuplicates()\n",
    "print(df_sin_null.count())"
   ]
  },
  {
   "cell_type": "markdown",
   "id": "1f281f5a",
   "metadata": {},
   "source": [
    "No cuenta con duplicados"
   ]
  },
  {
   "cell_type": "code",
   "execution_count": 71,
   "id": "7d6e6548",
   "metadata": {},
   "outputs": [
    {
     "data": {
      "application/vnd.jupyter.widget-view+json": {
       "model_id": "",
       "version_major": 2,
       "version_minor": 0
      },
      "text/plain": [
       "FloatProgress(value=0.0, bar_style='info', description='Progress:', layout=Layout(height='25px', width='50%'),…"
      ]
     },
     "metadata": {},
     "output_type": "display_data"
    },
    {
     "name": "stdout",
     "output_type": "stream",
     "text": [
      "+--------+-------------------+----+------+--------------------+--------------+--------------------+--------+--------------------+--------------------+------+------+------+------+------+------+------+------+------+------+------+------+------+------+------+------+------+------+------+------+------+------+------+------+------+------+------+------+------+------+------+------+------+------+------+------+-----+-----+-----+-----+-----+-----+-----+-----+-----+-----+-----+-----+-----+-----+-----+-----+-----+-----+-----+-----+-----+-----+-----+-----+-----+-----+-----+---------------+\n",
      "|ObjectId|            Country|ISO2|  ISO3|           Indicator|          Unit|              Source|CTS_Code|            CTS_Name| CTS_Full_Descriptor| F1961| F1962| F1963| F1964| F1965| F1966| F1967| F1968| F1969| F1970| F1971| F1972| F1973| F1974| F1975| F1976| F1977| F1978| F1979| F1980| F1981| F1982| F1983| F1984| F1985| F1986| F1987| F1988| F1989| F1990| F1991| F1992| F1993| F1994| F1995| F1996|F1997|F1998|F1999|F2000|F2001|F2002|F2003|F2004|F2005|F2006|F2007|F2008|F2009|F2010|F2011|F2012|F2013|F2014|F2015|F2016|F2017|F2018|F2019|F2020|F2021|F2022|F2023|    change_temp|\n",
      "+--------+-------------------+----+------+--------------------+--------------+--------------------+--------+--------------------+--------------------+------+------+------+------+------+------+------+------+------+------+------+------+------+------+------+------+------+------+------+------+------+------+------+------+------+------+------+------+------+------+------+------+------+------+------+------+-----+-----+-----+-----+-----+-----+-----+-----+-----+-----+-----+-----+-----+-----+-----+-----+-----+-----+-----+-----+-----+-----+-----+-----+-----+-----+-----+---------------+\n",
      "|     162|     Palau, Rep. of|  PW|   PLW|Temperature chang...|Degree Celsius|Food and Agricult...|    ECCS|Surface Temperatu...|Environment, Clim...|  null|  null|  null|  null|  null|  null|  null|  null|  null|  null|  null|  null|  null|  null|  null|  null|  null|  null|  null|  null|  null|  null|  null|  null|  null|  null|  null|  null|  null|  null|  null|-0.006|-0.049|  0.19| 0.249| 0.313|0.305|0.573|0.391|0.386|0.439|0.567|0.526| 0.75|0.592| 0.64|0.746| null|0.847|0.802|0.785| 0.93|0.753|0.816|1.084|1.155|1.031|1.112| null| null|1.337|1.548|1.834|Diferencia alta|\n",
      "|     179|              Samoa|  WS|   WSM|Temperature chang...|Degree Celsius|Food and Agricult...|    ECCS|Surface Temperatu...|Environment, Clim...| 0.068|-0.011| 0.079| 0.085|-0.327| 0.068|-0.291|-0.209|  0.23| 0.234|-0.399|-0.086| 0.193|-0.427|-0.239|-0.363| 0.008| 0.032| 0.188| 0.232| 0.021|  0.23| 0.291| 0.119| 0.095|  0.26|   0.2| 0.512| 0.053| 0.477| 0.498|  0.33|-0.172| 0.258| 0.659| 0.721| null| null|0.176|0.531|0.809|1.057|0.645|0.173|0.821|0.411|0.854|0.437| null|1.103|0.571|0.646|0.939|0.759|0.599|1.129|1.024|0.778|1.129| 1.02|0.857|0.845| 0.87|Diferencia baja|\n",
      "|     215|   Türkiye, Rep. of|  TR|   TUR|Temperature chang...|Degree Celsius|Food and Agricult...|    ECCS|Surface Temperatu...|Environment, Clim...| 0.178| 1.033| 0.486|-0.719| -0.34| 1.424|-0.828|-0.024|-0.064| 0.853| 0.039|-0.734|-0.489|-0.336|-0.128|-1.154| 0.192|-0.055| 0.907|-0.096| 0.399|-0.228|-0.455| 0.331|-0.077| 0.416|-0.402|-0.311| 0.344|-0.061| 0.225|-1.237|-0.812|  1.21| 0.156| 0.289|0.017|1.016|1.251| 0.54|1.536|0.801|0.314|0.605| 0.44|0.884|0.978|0.858|0.678|2.381|0.375|0.969|1.342|1.315|0.783|1.572|0.758|2.617|1.679|1.877| 1.92|1.288|2.061|Diferencia alta|\n",
      "|     195|          Sri Lanka|  LK|   LKA|Temperature chang...|Degree Celsius|Food and Agricult...|    ECCS|Surface Temperatu...|Environment, Clim...|-0.156|-0.121|-0.054| 0.064|-0.145| 0.211|-0.089|-0.073| 0.225| 0.122| -0.34|-0.111| 0.406|-0.244|-0.159| -0.07| 0.078| 0.127| 0.377|  0.46| 0.273| 0.267| 0.769| 0.109| 0.207| 0.304| 0.817| 0.845| 0.337| 0.709| 0.653|  0.35| 0.348| 0.421|  0.72| 0.541|0.695| 1.31|0.483|0.604|0.855|1.012|0.915|0.829| 0.88|0.628|0.607|0.534|0.744|1.079|0.705| 0.93|0.835|0.948|0.954|1.319|1.047|0.771|1.223|1.265|0.978|0.937|1.101|Diferencia baja|\n",
      "|      89|     Guiana, French|  GF|   GUF|Temperature chang...|Degree Celsius|Food and Agricult...|    ECCS|Surface Temperatu...|Environment, Clim...|-0.156|-0.124|-0.105|-0.111|-0.193| 0.116|-0.212|-0.238| 0.395| 0.183|-0.372|-0.068| 0.137|-0.366|-0.301|-0.108| 0.109| 0.117| 0.331| 0.321|  0.31| 0.271| 0.622|-0.121|-0.016| 0.148|  0.71|  0.49| 0.046| 0.346| 0.525| 0.611| 0.665| 0.626| 0.947| 0.667| 0.78|1.498| 0.77|0.652| 0.64|0.704|0.988|0.968|1.426|0.826|0.904|0.839|1.204|1.426|  1.0|0.952|1.098|1.128| 1.35|1.758|1.482|1.223| 1.54| 1.65|1.341|  1.2|1.663|Diferencia alta|\n",
      "|     214|            Tunisia|  TN|   TUN|Temperature chang...|Degree Celsius|Food and Agricult...|    ECCS|Surface Temperatu...|Environment, Clim...| 0.299|  0.21| 0.015|   0.4|-0.094| 0.543| 0.026| 0.084| 0.038|-0.211|-0.241|-0.361|-0.142|-0.355|-0.367|-0.747| 0.608|-0.385| 0.432|-0.201| 0.072| 0.803| 0.213|-0.132| 0.387| 0.425| 0.589| 1.316|  0.47|  1.41|-0.049| 0.002| 0.676| 1.348| 0.665|  0.64|1.265|1.007|1.767|1.031|2.017|1.273|1.738|0.984|1.122|1.354|1.479|1.464|0.952|1.848|1.129|1.705| 1.56|1.956|1.273|1.974|1.447|1.571|1.413|2.077|  2.5|2.169|2.403|Diferencia alta|\n",
      "|      24|            Belgium|  BE|   BEL|Temperature chang...|Degree Celsius|Food and Agricult...|    ECCS|Surface Temperatu...|Environment, Clim...|  null|  null|  null|  null|  null|  null|  null|  null|  null|  null|  null|  null|  null|  null|  null|  null|  null|  null|  null|  null|  null|  null|  null|  null|  null|  null|  null|  null|  null|  null|  null|  null|  null|  null|  null|  null| null| null| null|1.482|1.333|1.394|1.523|1.089|1.198|1.406|1.889|1.261|1.159|0.236| 1.29|1.137|0.472|2.408|1.355|1.865|1.711|2.173|2.055|2.542|1.176|2.776|2.409|Diferencia alta|\n",
      "|     136|             Mexico|  MX|   MEX|Temperature chang...|Degree Celsius|Food and Agricult...|    ECCS|Surface Temperatu...|Environment, Clim...|-0.149| 0.183| 0.225|-0.292|-0.071|-0.249|-0.109|-0.424| 0.179|-0.298|-0.058| 0.312|-0.152|-0.074|-0.317|-0.476| 0.016|  0.19|-0.054| 0.388| 0.163| 0.569| 0.011|-0.116| 0.078| 0.262|-0.166| 0.129| 0.439|  0.22| 0.219| 0.037| 0.278| 0.652| 0.735|  0.48|0.404|0.645|0.553|0.542|0.475|0.652|0.811|0.314| 0.74|0.873|0.452|0.497| 0.99|0.233|0.941|0.849|0.679|0.793|1.028|1.233|1.501|1.123|1.262|1.621|1.064| 1.14|1.683|Diferencia alta|\n",
      "|     107|              Japan|  JP|   JPN|Temperature chang...|Degree Celsius|Food and Agricult...|    ECCS|Surface Temperatu...|Environment, Clim...|  0.67| 0.126|-0.054|  0.26|-0.527| 0.014| 0.029|-0.501|-0.045|-0.373|-0.328| 0.233| 0.333|-0.482| 0.041|-0.508|-0.154| 0.231| 0.456|-0.214|-0.641|-0.047| 0.099|-0.616| 0.118|  -0.7| 0.318| -0.16| 0.558| 1.135| 0.724| 0.326| 0.005| 0.958| 0.342|-0.132|0.449|1.194|0.944|0.624|0.409|0.621|0.312|1.105|0.724|0.374|0.988|0.657|0.793|0.913|0.585|0.381|0.609|0.543|0.817|1.307|0.781|0.908|1.253|1.418|1.253|1.316|1.847|Diferencia alta|\n",
      "|       6|           Americas|null|AMETMP|Temperature chang...|Degree Celsius|Food and Agricult...|    ECCS|Surface Temperatu...|Environment, Clim...| 0.053|-0.084| 0.264|-0.244|  -0.3|-0.104|-0.113|-0.003| 0.098| 0.156|-0.239|-0.454| 0.164|-0.283|-0.123|-0.136| 0.505|-0.072|-0.072| 0.506| 0.697|-0.093| 0.451| 0.072|-0.009| 0.287| 0.836|  0.56| 0.174| 0.367| 0.419| 0.252| 0.268| 0.503| 0.711| 0.186|0.567|1.417|0.797|0.725|0.851|0.777|0.981|0.679|1.039|1.223|0.923|0.571|0.681|1.313|0.865|1.348|0.846|0.724|1.352|1.766|1.353|0.949|1.229|1.303|1.558|1.075|1.772|Diferencia alta|\n",
      "|     236| West Bank and Gaza|  PS|   PSE|Temperature chang...|Degree Celsius|Food and Agricult...|    ECCS|Surface Temperatu...|Environment, Clim...|-0.134| 0.839| 0.841|-0.636|-0.041| 0.597|  -0.9|-0.056| 0.285| 0.236|-0.308|-0.466|-0.452|-0.234| -0.39|-0.552|  0.04|-0.047| 0.635|-0.176|-0.193| -0.54|-1.046|  -0.2| 0.026|  0.07|-0.276| 0.057|-0.152| -0.14| 0.366|-1.059|-0.384|  0.79|-0.165| 0.342|-0.12|0.893|0.899|0.299|0.926|0.806|0.641|0.614|0.268|0.651| 0.59|0.797|0.908|2.402|0.652|1.113| 1.19|0.942|1.423| 1.74|0.881|2.143|1.339|1.621|1.972| 1.28|2.093|Diferencia alta|\n",
      "|     231|Uzbekistan, Rep. of|  UZ|   UZB|Temperature chang...|Degree Celsius|Food and Agricult...|    ECCS|Surface Temperatu...|Environment, Clim...|  null|  null|  null|  null|  null|  null|  null|  null|  null|  null|  null|  null|  null|  null|  null|  null|  null|  null|  null|  null|  null|  null|  null|  null|  null|  null|  null|  null|  null|  null|  null| 0.095|-0.236|-0.053| 1.369|-0.469| 1.52|0.475|1.284|1.363|1.531|1.808|0.117|1.899|1.345|1.542|1.348|0.672| 1.03|1.752|1.012| 0.64|1.484| 0.13|1.344|2.221|1.713|0.959|1.853|1.627|1.446| 2.52|2.333|Diferencia alta|\n",
      "|     192|       South Africa|  ZA|   ZAF|Temperature chang...|Degree Celsius|Food and Agricult...|    ECCS|Surface Temperatu...|Environment, Clim...| 0.246| 0.212| 0.181|-0.076| -0.03| 0.243| -0.08|-0.385| 0.274| 0.347|-0.164| 0.097|  0.34| -0.25|-0.138| -0.51| 0.169| 0.057|  0.31| 0.235|-0.356|  0.19| 0.681|  0.51| 0.629| 0.429| 0.714| 0.329|-0.041| 0.317| 0.356| 0.797| 0.822| 0.201|  0.63|-0.143|0.244|0.842|1.103|0.287|0.535| 0.53|0.942|0.962|1.131|0.429|0.815|0.698|0.723|1.187|0.471|0.624|0.738|0.814|  1.3| 1.57| 1.14| 1.04|1.926| 0.96|0.816|1.098|1.121|Diferencia baja|\n",
      "|     200|           Suriname|  SR|   SUR|Temperature chang...|Degree Celsius|Food and Agricult...|    ECCS|Surface Temperatu...|Environment, Clim...|-0.104| -0.15|-0.085|-0.088|-0.063| 0.154|-0.238|-0.234| 0.459| 0.212|-0.462|-0.025| 0.128|-0.344|-0.263| 0.003| 0.193| 0.133| 0.265| 0.317| 0.272| 0.253| 0.444|-0.255|-0.085| 0.026| 0.615| 0.434| 0.069| 0.264|  0.47| 0.624| 0.483| 0.585| 1.061|  0.55|0.771|1.373|0.586|0.693|0.528|0.684|0.919|0.953|1.285|0.868|0.832|0.895|1.216|1.353|0.884|0.877|1.036|1.039|1.095|1.581|1.247|1.058|1.338| 1.49|1.083|1.102|1.524|Diferencia baja|\n",
      "|     153|              Niger|  NE|   NER|Temperature chang...|Degree Celsius|Food and Agricult...|    ECCS|Surface Temperatu...|Environment, Clim...|-0.697|-0.197| 0.358|-0.338|-0.076|-0.067| -0.33| 0.102| 0.764| 0.079|-0.053| 0.378| 0.454|  0.01|-0.399| 0.297|-0.344| 0.209| 0.732| 0.535| 0.057| 0.388| 0.069| 0.651| 0.327|  0.77| 0.699| 0.623|-0.343| 0.525| 0.908|-0.238| 0.454| 0.254| 0.512| 1.143|0.787|0.774|0.614|0.798|0.301|0.657| 0.91|0.653|1.274|1.281|0.995|0.464|1.485|1.722|1.132|0.779|1.009|  1.2|1.006|1.155|1.021|1.214|1.113|0.948|1.618|  0.6|1.672|Diferencia alta|\n",
      "|     216|       Turkmenistan|  TM|   TKM|Temperature chang...|Degree Celsius|Food and Agricult...|    ECCS|Surface Temperatu...|Environment, Clim...|  null|  null|  null|  null|  null|  null|  null|  null|  null|  null|  null|  null|  null|  null|  null|  null|  null|  null|  null|  null|  null|  null|  null|  null|  null|  null|  null|  null|  null|  null|  null| -0.11|-0.203| 0.248| 1.362|-0.075|1.344| 0.95|1.284|1.278|1.509|1.781|0.066|1.644|1.288|1.692|  1.1|0.726|1.086|1.908|1.109|0.799|1.648|0.728|1.417|1.989|1.671|1.522|1.792|1.503|1.639|2.508|2.384|Diferencia alta|\n",
      "|     172|              Qatar|  QA|   QAT|Temperature chang...|Degree Celsius|Food and Agricult...|    ECCS|Surface Temperatu...|Environment, Clim...| -0.55| 0.512| 0.443|-0.404| 0.382| 0.442|-0.212|-0.495| 0.708| 0.306|-0.115|-0.735|-0.263|-0.341|-0.284|-0.566| 0.271| 0.143| 0.761| 0.384| 0.409| -0.16|-0.891| 0.008| 0.377| 0.542| 0.353| 0.466|-0.099| 0.357|-0.176|-0.551|-0.001| 0.635| 0.032| 0.465|0.033|1.142|1.706|0.944|0.973|1.455|1.183| 1.23|0.843| 1.65| 0.98|1.155|1.102|1.992|1.442|1.374|1.226|1.553|1.969|1.539|1.915|2.027|1.861|1.745|2.175|1.865|2.074|Diferencia alta|\n",
      "|      26|              Benin|  BJ|   BEN|Temperature chang...|Degree Celsius|Food and Agricult...|    ECCS|Surface Temperatu...|Environment, Clim...|-0.161|-0.267| 0.103|-0.255|-0.122|-0.096|-0.269|-0.096| 0.372| 0.374|-0.125| 0.161|  0.65| 0.076|-0.264|-0.174| 0.373|-0.022| 0.528| 0.459| 0.235| 0.274| 0.611| 0.613|  0.48|  0.38| 1.051| 0.706| 0.027| 0.658| 0.377| 0.043| 0.588| 0.491| 0.471| 0.805|0.612|1.109|0.666|0.494|0.567|0.762|1.008|0.783|1.177|1.108|0.868|0.702|1.008|1.283|0.998|0.643|0.919|0.995|1.187|1.138|1.288|1.169|1.255|1.148|1.611|0.972|1.466|Diferencia baja|\n",
      "|     141|         Montenegro|  ME|   MNE|Temperature chang...|Degree Celsius|Food and Agricult...|    ECCS|Surface Temperatu...|Environment, Clim...|  null|  null|  null|  null|  null|  null|  null|  null|  null|  null|  null|  null|  null|  null|  null|  null|  null|  null|  null|  null|  null|  null|  null|  null|  null|  null|  null|  null|  null|  null|  null|  null|  null|  null|  null|  null| null| null| null| null| null| null| null| null| null|0.538|1.778|1.345|1.311| 1.27|1.073|1.729|1.532|1.609|1.806|1.562|1.349|  2.3|1.893|1.765|1.648|1.892|2.425|Diferencia alta|\n",
      "|      73|      Faroe Islands|  FO|   FRO|Temperature chang...|Degree Celsius|Food and Agricult...|    ECCS|Surface Temperatu...|Environment, Clim...| 0.635|-0.475|-0.052| 0.482| -0.35| -0.39|-0.117|-0.248|-0.342|-0.508| 0.246| 0.673|-0.049| 0.501|-0.024| 0.508|-0.314|-0.122|-0.898| 0.003|-0.412| 0.163|-0.341| 0.406|-0.212|-0.233| 0.104| 0.166| 0.389| 0.639| 0.939| 0.632| 0.076|-0.032|-0.177| 0.323|0.867| 0.65|0.552|0.258|0.517|1.089|1.657|1.073|0.529|1.176|0.992|0.928|1.482|0.297|1.094|0.402|0.636|1.807|0.855|0.845| 1.53|0.871|0.912|0.877| 1.03|1.289| 0.63|Diferencia baja|\n",
      "+--------+-------------------+----+------+--------------------+--------------+--------------------+--------+--------------------+--------------------+------+------+------+------+------+------+------+------+------+------+------+------+------+------+------+------+------+------+------+------+------+------+------+------+------+------+------+------+------+------+------+------+------+------+------+------+-----+-----+-----+-----+-----+-----+-----+-----+-----+-----+-----+-----+-----+-----+-----+-----+-----+-----+-----+-----+-----+-----+-----+-----+-----+-----+-----+---------------+\n",
      "only showing top 20 rows"
     ]
    }
   ],
   "source": [
    "df_new=df_sin_null.drop('CTF_Full_Descriptor')\n",
    "df_new.show()"
   ]
  },
  {
   "cell_type": "code",
   "execution_count": 72,
   "id": "ee2f67e8",
   "metadata": {},
   "outputs": [
    {
     "data": {
      "application/vnd.jupyter.widget-view+json": {
       "model_id": "",
       "version_major": 2,
       "version_minor": 0
      },
      "text/plain": [
       "FloatProgress(value=0.0, bar_style='info', description='Progress:', layout=Layout(height='25px', width='50%'),…"
      ]
     },
     "metadata": {},
     "output_type": "display_data"
    }
   ],
   "source": [
    "#target directory \n",
    "#pathcsv_out='../out/df_csv'\n",
    "#pathcsv_out='gdrive/MyDrive/st1800-231/out/df_csv'\n",
    "# hacia S3\n",
    "pathcsv_out ='s3://trustedtrabajo1/trusted/spark_temp_change'"
   ]
  },
  {
   "cell_type": "code",
   "execution_count": 73,
   "id": "a221cdf4",
   "metadata": {},
   "outputs": [
    {
     "data": {
      "application/vnd.jupyter.widget-view+json": {
       "model_id": "",
       "version_major": 2,
       "version_minor": 0
      },
      "text/plain": [
       "FloatProgress(value=0.0, bar_style='info', description='Progress:', layout=Layout(height='25px', width='50%'),…"
      ]
     },
     "metadata": {},
     "output_type": "display_data"
    }
   ],
   "source": [
    "df_new.coalesce(1).write.format(\"csv\").option(\"header\",\"true\").save(pathcsv_out)\n"
   ]
  },
  {
   "cell_type": "code",
   "execution_count": null,
   "id": "ad4a696b",
   "metadata": {},
   "outputs": [],
   "source": []
  }
 ],
 "metadata": {
  "kernelspec": {
   "display_name": "PySpark",
   "language": "python",
   "name": "pysparkkernel"
  },
  "language_info": {
   "codemirror_mode": {
    "name": "python",
    "version": 3
   },
   "file_extension": ".py",
   "mimetype": "text/x-python",
   "name": "pyspark",
   "pygments_lexer": "python3"
  }
 },
 "nbformat": 4,
 "nbformat_minor": 5
}
